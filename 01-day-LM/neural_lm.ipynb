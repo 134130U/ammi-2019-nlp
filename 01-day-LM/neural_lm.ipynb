{
 "cells": [
  {
   "cell_type": "markdown",
   "metadata": {
    "colab_type": "text",
    "id": "view-in-github"
   },
   "source": [
    "<a href=\"https://colab.research.google.com/github/kyunghyuncho/ammi-2019-nlp/blob/master/01-day-LM/neural_lm.ipynb\" target=\"_parent\"><img src=\"https://colab.research.google.com/assets/colab-badge.svg\" alt=\"Open In Colab\"/></a>"
   ]
  },
  {
   "cell_type": "markdown",
   "metadata": {
    "colab": {},
    "colab_type": "code",
    "id": "ZNniJxhFMYCF"
   },
   "source": [
    "# Neural Language Modeling"
   ]
  },
  {
   "cell_type": "code",
   "execution_count": 1,
   "metadata": {},
   "outputs": [],
   "source": [
    "import os\n",
    "import sys\n",
    "sys.path.append('utils/')\n",
    "import loading_text_and_tokenization\n",
    "import torch\n",
    "import numpy as np\n",
    "import torch.nn as nn\n",
    "import random\n",
    "import math\n",
    "\n",
    "import utils.ngram_utils as ngram_utils\n",
    "from utils.amazon_dataset import AmazonDataset, pad, batchify\n",
    "from torch.utils.data import DataLoader\n",
    "from utils.neural_lm import BagOfNGrams, DecoderMLP, seq2seq\n",
    "import utils.global_variables as gl\n",
    "import torch\n",
    "from tqdm import tqdm_notebook, tqdm\n",
    "_tqdm = tqdm_notebook\n",
    "from utils.ngram_utils import NgramLM"
   ]
  },
  {
   "cell_type": "code",
   "execution_count": 2,
   "metadata": {},
   "outputs": [
    {
     "data": {
      "text/plain": [
       "<torch._C.Generator at 0x7f9766dd07b0>"
      ]
     },
     "execution_count": 2,
     "metadata": {},
     "output_type": "execute_result"
    }
   ],
   "source": [
    "torch.manual_seed(1)\n"
   ]
  },
  {
   "cell_type": "code",
   "execution_count": 3,
   "metadata": {},
   "outputs": [],
   "source": [
    "USE_CUDA = True\n",
    "device = torch.device(\"cuda\" if USE_CUDA else \"cpu\")\n",
    "N = 10"
   ]
  },
  {
   "cell_type": "code",
   "execution_count": 4,
   "metadata": {},
   "outputs": [],
   "source": [
    "# Read data from .txt files and create lists of reviews\n",
    "train_data = []\n",
    "# create a list of all the reviews \n",
    "with open('../data/amazon_reviews_clothing_train.txt', 'r') as f:\n",
    "    train_data = [review for review in f.read().split('\\n') if review]\n",
    "    \n",
    "valid_data = []\n",
    "# create a list of all the reviews \n",
    "with open('../data/amazon_reviews_clothing_valid.txt', 'r') as f:\n",
    "    valid_data = [review for review in f.read().split('\\n') if review]\n",
    "    "
   ]
  },
  {
   "cell_type": "code",
   "execution_count": 5,
   "metadata": {},
   "outputs": [],
   "source": [
    "train_data = train_data[:20]\n",
    "valid_data = valid_data[:2]"
   ]
  },
  {
   "cell_type": "code",
   "execution_count": 6,
   "metadata": {},
   "outputs": [
    {
     "data": {
      "text/plain": [
       "(\"this is a great tutu and at a really great price . it doesn ' t look cheap at all . i ' m so glad i looked on amazon and found such an affordable tutu that isn ' t made poorly . a + + \",\n",
       " \"these serve their purpose . they are very thin . . . so theyre great for flats or other shoes that you ' d need like a dress sock for . as for wearing them w / tennis shoes , id personally go w / a thicker no show sock . these also slip and fall off often with certain shoes . \")"
      ]
     },
     "execution_count": 6,
     "metadata": {},
     "output_type": "execute_result"
    }
   ],
   "source": [
    "train_data[0], valid_data[0]"
   ]
  },
  {
   "cell_type": "code",
   "execution_count": 7,
   "metadata": {},
   "outputs": [
    {
     "name": "stderr",
     "output_type": "stream",
     "text": [
      "20it [00:00, 593.72it/s]\n",
      "2it [00:00, 475.41it/s]\n"
     ]
    }
   ],
   "source": [
    "# Tokenize the Datasets\n",
    "# TODO: this takes a really long time !! why?\n",
    "train_data_tokenized, all_tokens_train = ngram_utils.tokenize_dataset(train_data)\n",
    "valid_data_tokenized, all_tokens_valid = ngram_utils.tokenize_dataset(valid_data)\n"
   ]
  },
  {
   "cell_type": "code",
   "execution_count": 8,
   "metadata": {},
   "outputs": [],
   "source": [
    "train_ngram_lm = NgramLM(train_data_tokenized, all_tokens_train, n=1)\n",
    "valid_ngram_lm = NgramLM(valid_data_tokenized, all_tokens_valid, n=1)"
   ]
  },
  {
   "cell_type": "code",
   "execution_count": 9,
   "metadata": {},
   "outputs": [],
   "source": [
    "# TODO: make sure this makes sense for the valid data -- shouldn't we use the same dict for it?\n",
    "train_unigram = train_ngram_lm.ngram_data\n",
    "train_id2token_unigram = train_ngram_lm.id2token\n",
    "\n",
    "valid_unigram = valid_ngram_lm.ngram_data\n",
    "valid_id2token_unigram = valid_ngram_lm.id2token "
   ]
  },
  {
   "cell_type": "code",
   "execution_count": 10,
   "metadata": {},
   "outputs": [],
   "source": [
    "N = 10  # N-grams"
   ]
  },
  {
   "cell_type": "code",
   "execution_count": 11,
   "metadata": {},
   "outputs": [
    {
     "data": {
      "text/plain": [
       "('this',)"
      ]
     },
     "execution_count": 11,
     "metadata": {},
     "output_type": "execute_result"
    }
   ],
   "source": [
    "train_unigram[0][0]"
   ]
  },
  {
   "cell_type": "code",
   "execution_count": 12,
   "metadata": {},
   "outputs": [],
   "source": [
    "# TODO: make sure this makes sense for the valid data -- shouldn't we use the same dict for it?\n",
    "train_data_id = train_ngram_lm.create_data_id(train_unigram)\n",
    "train_data_id_merged = train_ngram_lm.create_data_id_merged(train_data_id, N)\n",
    "\n",
    "valid_data_id = train_ngram_lm.create_data_id(valid_unigram)\n",
    "valid_data_id_merged = train_ngram_lm.create_data_id_merged(valid_data_id, N)"
   ]
  },
  {
   "cell_type": "code",
   "execution_count": 13,
   "metadata": {},
   "outputs": [
    {
     "data": {
      "text/plain": [
       "(1048, 115, ([14, 15, 10, 18, 22, 7, 57, 10, 160, 18], 39))"
      ]
     },
     "execution_count": 13,
     "metadata": {},
     "output_type": "execute_result"
    }
   ],
   "source": [
    "len(train_data_id_merged), len(valid_data_id_merged), train_data_id_merged[0]"
   ]
  },
  {
   "cell_type": "code",
   "execution_count": 14,
   "metadata": {},
   "outputs": [
    {
     "name": "stderr",
     "output_type": "stream",
     "text": [
      "100%|██████████| 1048/1048 [00:02<00:00, 387.19it/s]\n",
      "100%|██████████| 115/115 [00:00<00:00, 11636.23it/s]\n"
     ]
    }
   ],
   "source": [
    "train_dataset = AmazonDataset(train_data_id_merged, max_inp_length=None, use_cuda=True)\n",
    "train_loader = DataLoader(train_dataset, batch_size=1024, collate_fn=batchify, shuffle=True)\n",
    "\n",
    "valid_dataset = AmazonDataset(valid_data_id_merged, max_inp_length=None, use_cuda=True)\n",
    "valid_loader = DataLoader(valid_dataset, batch_size=1024, collate_fn=batchify, shuffle=True)"
   ]
  },
  {
   "cell_type": "code",
   "execution_count": 15,
   "metadata": {},
   "outputs": [],
   "source": [
    "num_train = len(train_dataset)\n",
    "num_valid = len(valid_dataset)"
   ]
  },
  {
   "cell_type": "code",
   "execution_count": 16,
   "metadata": {},
   "outputs": [
    {
     "data": {
      "text/plain": [
       "(<torch.utils.data.dataloader.DataLoader at 0x7f96ee674208>,\n",
       " <utils.amazon_dataset.AmazonDataset at 0x7f96ede640f0>)"
      ]
     },
     "execution_count": 16,
     "metadata": {},
     "output_type": "execute_result"
    }
   ],
   "source": [
    "train_loader, train_dataset"
   ]
  },
  {
   "cell_type": "code",
   "execution_count": 17,
   "metadata": {},
   "outputs": [
    {
     "data": {
      "text/plain": [
       "362"
      ]
     },
     "execution_count": 17,
     "metadata": {},
     "output_type": "execute_result"
    }
   ],
   "source": [
    "vocab_size = len(train_id2token_unigram)\n",
    "vocab_size"
   ]
  },
  {
   "cell_type": "code",
   "execution_count": 18,
   "metadata": {},
   "outputs": [
    {
     "data": {
      "text/plain": [
       "BagOfNGrams(\n",
       "  (embedding): EmbeddingBag(362, 300, mode=mean)\n",
       "  (layers): ModuleList(\n",
       "    (0): Linear(in_features=300, out_features=512, bias=True)\n",
       "    (1): ReLU()\n",
       "    (2): Dropout(p=0.1)\n",
       "    (3): Linear(in_features=512, out_features=256, bias=True)\n",
       "  )\n",
       ")"
      ]
     },
     "execution_count": 18,
     "metadata": {},
     "output_type": "execute_result"
    }
   ],
   "source": [
    "encoder = BagOfNGrams(vocab_size, emb_dim=300, hidden_size=512, out_size=256, activation='ReLU', nlayers=1, reduce='mean', dropout=0.1, batch_norm=False)\n",
    "encoder"
   ]
  },
  {
   "cell_type": "code",
   "execution_count": 19,
   "metadata": {},
   "outputs": [
    {
     "data": {
      "text/plain": [
       "DecoderMLP(\n",
       "  (linear): Linear(in_features=256, out_features=512, bias=True)\n",
       "  (out): Linear(in_features=512, out_features=362, bias=True)\n",
       "  (log_softmax): LogSoftmax()\n",
       ")"
      ]
     },
     "execution_count": 19,
     "metadata": {},
     "output_type": "execute_result"
    }
   ],
   "source": [
    "decoder = DecoderMLP(input_size=256, output_size=vocab_size, hidden_size=512)\n",
    "decoder"
   ]
  },
  {
   "cell_type": "code",
   "execution_count": 20,
   "metadata": {},
   "outputs": [
    {
     "data": {
      "text/plain": [
       "seq2seq(\n",
       "  (encoder): BagOfNGrams(\n",
       "    (embedding): EmbeddingBag(362, 300, mode=mean)\n",
       "    (layers): ModuleList(\n",
       "      (0): Linear(in_features=300, out_features=512, bias=True)\n",
       "      (1): ReLU()\n",
       "      (2): Dropout(p=0.1)\n",
       "      (3): Linear(in_features=512, out_features=256, bias=True)\n",
       "    )\n",
       "  )\n",
       "  (decoder): DecoderMLP(\n",
       "    (linear): Linear(in_features=256, out_features=512, bias=True)\n",
       "    (out): Linear(in_features=512, out_features=362, bias=True)\n",
       "    (log_softmax): LogSoftmax()\n",
       "  )\n",
       "  (criterion): NLLLoss()\n",
       ")"
      ]
     },
     "execution_count": 20,
     "metadata": {},
     "output_type": "execute_result"
    }
   ],
   "source": [
    "model = seq2seq(encoder, decoder, train_id2token_unigram, use_cuda=False, lr=0.1, size_ngrams=N)\n",
    "model"
   ]
  },
  {
   "cell_type": "markdown",
   "metadata": {},
   "source": [
    "## Training"
   ]
  },
  {
   "cell_type": "code",
   "execution_count": 21,
   "metadata": {},
   "outputs": [
    {
     "name": "stdout",
     "output_type": "stream",
     "text": [
      "| Epoch   0 | Train Loss  0.01 | Train PPL     1.01\n",
      "-----------------------------------------------------------------------------------------\n",
      "| Epoch   0 | Valid Loss  0.05 | Valid PPL     1.05\n",
      "-----------------------------------------------------------------------------------------\n",
      "-----------------------------------------------------------------------------------------\n",
      "| Epoch   1 | Train Loss  0.01 | Train PPL     1.01\n",
      "-----------------------------------------------------------------------------------------\n",
      "| Epoch   1 | Valid Loss  0.05 | Valid PPL     1.05\n",
      "-----------------------------------------------------------------------------------------\n",
      "-----------------------------------------------------------------------------------------\n",
      "| Epoch   2 | Train Loss  0.01 | Train PPL     1.01\n",
      "-----------------------------------------------------------------------------------------\n",
      "| Epoch   2 | Valid Loss  0.04 | Valid PPL     1.04\n",
      "-----------------------------------------------------------------------------------------\n",
      "-----------------------------------------------------------------------------------------\n",
      "| Epoch   3 | Train Loss  0.01 | Train PPL     1.01\n",
      "-----------------------------------------------------------------------------------------\n",
      "| Epoch   3 | Valid Loss  0.05 | Valid PPL     1.05\n",
      "-----------------------------------------------------------------------------------------\n",
      "-----------------------------------------------------------------------------------------\n",
      "| Epoch   4 | Train Loss  0.01 | Train PPL     1.01\n",
      "-----------------------------------------------------------------------------------------\n",
      "| Epoch   4 | Valid Loss  0.05 | Valid PPL     1.05\n",
      "-----------------------------------------------------------------------------------------\n",
      "-----------------------------------------------------------------------------------------\n",
      "| Epoch   5 | Train Loss  0.01 | Train PPL     1.01\n",
      "-----------------------------------------------------------------------------------------\n",
      "| Epoch   5 | Valid Loss  0.04 | Valid PPL     1.04\n",
      "-----------------------------------------------------------------------------------------\n",
      "-----------------------------------------------------------------------------------------\n",
      "| Epoch   6 | Train Loss  0.01 | Train PPL     1.01\n",
      "-----------------------------------------------------------------------------------------\n",
      "| Epoch   6 | Valid Loss  0.04 | Valid PPL     1.04\n",
      "-----------------------------------------------------------------------------------------\n",
      "-----------------------------------------------------------------------------------------\n",
      "| Epoch   7 | Train Loss  0.01 | Train PPL     1.01\n",
      "-----------------------------------------------------------------------------------------\n",
      "| Epoch   7 | Valid Loss  0.03 | Valid PPL     1.04\n",
      "-----------------------------------------------------------------------------------------\n",
      "-----------------------------------------------------------------------------------------\n",
      "| Epoch   8 | Train Loss  0.01 | Train PPL     1.01\n",
      "-----------------------------------------------------------------------------------------\n",
      "| Epoch   8 | Valid Loss  0.03 | Valid PPL     1.03\n",
      "-----------------------------------------------------------------------------------------\n",
      "-----------------------------------------------------------------------------------------\n",
      "| Epoch   9 | Train Loss  0.01 | Train PPL     1.01\n",
      "-----------------------------------------------------------------------------------------\n",
      "| Epoch   9 | Valid Loss  0.03 | Valid PPL     1.03\n",
      "-----------------------------------------------------------------------------------------\n",
      "-----------------------------------------------------------------------------------------\n"
     ]
    }
   ],
   "source": [
    "num_epochs = 10\n",
    "log_interval = 1\n",
    "best_eval_loss = np.inf\n",
    "\n",
    "for epoch in range(num_epochs):\n",
    "    # Train\n",
    "    train_loss = 0        \n",
    "    for i, (data, labels) in tqdm(enumerate(train_loader), disable=True):\n",
    "        prediction, loss = model.train_step(data, labels)\n",
    "        train_loss += loss\n",
    "        \n",
    "    if epoch % log_interval == 0:\n",
    "        train_loss = train_loss / num_train\n",
    "        print('| Epoch {:3d} | Train Loss {:5.2f} | Train PPL {:8.2f}'.format(\n",
    "                epoch, train_loss, math.exp(train_loss)))\n",
    "\n",
    "        # Eval\n",
    "        eval_loss = 0\n",
    "        for i, (data, labels) in _tqdm(enumerate(valid_loader), disable=True):\n",
    "            prediction, loss = model.train_step(data, labels, eval_mode=True)\n",
    "            eval_loss += loss\n",
    "        eval_loss = eval_loss / num_valid\n",
    "        print('-' * 89)\n",
    "        print('| Epoch {:3d} | Valid Loss {:5.2f} | Valid PPL {:8.2f}'.format(\n",
    "            epoch, eval_loss, math.exp(eval_loss)))\n",
    "        print('-' * 89)\n",
    "        print('-' * 89)\n",
    "\n",
    "        # Save the model if the validation loss is the best we've seen so far.\n",
    "        if not best_eval_loss or eval_loss < best_eval_loss:\n",
    "            with open('neural_lm_amazon_model' + '.pt', 'wb') as f:\n",
    "                torch.save(model, f)\n",
    "            best_eval_loss = eval_loss        \n"
   ]
  },
  {
   "cell_type": "code",
   "execution_count": null,
   "metadata": {},
   "outputs": [],
   "source": []
  },
  {
   "cell_type": "markdown",
   "metadata": {},
   "source": [
    "## Scoring Sentences"
   ]
  },
  {
   "cell_type": "code",
   "execution_count": 29,
   "metadata": {},
   "outputs": [
    {
     "name": "stdout",
     "output_type": "stream",
     "text": [
      "Context:  dress < for . as for wearing them < <\n",
      "Score:     0.3019151007147208\n",
      "\n",
      "Context:  . these < < and < off often with <\n",
      "Score:     0.2781901471450094\n",
      "\n",
      "Context:  < a < < < < . these < <\n",
      "Score:     0.47092630359412463\n",
      "\n",
      "Context:  fits as < , < was very < , came\n",
      "Score:     0.2812297585286127\n",
      "\n",
      "Context:  came on < : the < is < < ,\n",
      "Score:     0.28820639743830495\n",
      "\n"
     ]
    }
   ],
   "source": [
    "use_context = True\n",
    "score_only = True\n",
    "K = 5\n",
    "for i, (data, labels) in _tqdm(enumerate(valid_loader), disable=True):\n",
    "    generated, scores = model.eval_step(data, use_context=use_context, score_only=score_only)            # batch predictions\n",
    "    \n",
    "    for k in range(K):\n",
    "        if use_context:\n",
    "            context = [model.v2t(d) for d in data][k]\n",
    "            context = [c[0] for c in context]\n",
    "            print(\"Context: \", ' '.join(context))  # print only one generated sentence out of the bsz \n",
    "        generated_str = [' '.join(g) for g in generated] # convert them to more readable strings     \n",
    "        if not score_only:\n",
    "            print(\"Generated \", generated_str[k])  # print only one generated sentence out of the bsz \n",
    "        print(\"Score:    \", math.exp(scores[k]))  # print only one generated sentence out of the bsz \n",
    "        print(\"\")"
   ]
  },
  {
   "cell_type": "code",
   "execution_count": 28,
   "metadata": {},
   "outputs": [
    {
     "ename": "NameError",
     "evalue": "name 'score_sentences' is not defined",
     "output_type": "error",
     "traceback": [
      "\u001b[0;31m---------------------------------------------------------------------------\u001b[0m",
      "\u001b[0;31mNameError\u001b[0m                                 Traceback (most recent call last)",
      "\u001b[0;32m<ipython-input-28-54f340d63c13>\u001b[0m in \u001b[0;36m<module>\u001b[0;34m\u001b[0m\n\u001b[1;32m      6\u001b[0m test_sentences = ['i like the', \\\n\u001b[1;32m      7\u001b[0m                  'Cho is so cool']\n\u001b[0;32m----> 8\u001b[0;31m \u001b[0mscores\u001b[0m \u001b[0;34m=\u001b[0m \u001b[0mscore_sentences\u001b[0m\u001b[0;34m(\u001b[0m\u001b[0mtest_sentences\u001b[0m\u001b[0;34m)\u001b[0m\u001b[0;34m\u001b[0m\u001b[0;34m\u001b[0m\u001b[0m\n\u001b[0m\u001b[1;32m      9\u001b[0m \u001b[0mprint\u001b[0m\u001b[0;34m(\u001b[0m\u001b[0mscores\u001b[0m\u001b[0;34m)\u001b[0m\u001b[0;34m\u001b[0m\u001b[0;34m\u001b[0m\u001b[0m\n",
      "\u001b[0;31mNameError\u001b[0m: name 'score_sentences' is not defined"
     ]
    }
   ],
   "source": [
    "# test_sentences = ['dividend yields have been bolstered by stock declines', \\\n",
    "#              'stock bolstered declines dividend by yields have been', \\\n",
    "#              'artificial neural networks are computing systems vaguely inspired by the biological neural networks', \\\n",
    "#              'Cho is so cool', \\\n",
    "#              'roberta is so cool']\n",
    "test_sentences = ['i like the', \\\n",
    "                 'Cho is so cool']\n",
    "scores = score_sentences(test_sentences)\n",
    "print(scores)"
   ]
  },
  {
   "cell_type": "code",
   "execution_count": null,
   "metadata": {},
   "outputs": [],
   "source": [
    "scores"
   ]
  },
  {
   "cell_type": "markdown",
   "metadata": {},
   "source": [
    "## Generation"
   ]
  },
  {
   "cell_type": "code",
   "execution_count": null,
   "metadata": {},
   "outputs": [],
   "source": [
    "## No Context"
   ]
  },
  {
   "cell_type": "code",
   "execution_count": 30,
   "metadata": {},
   "outputs": [
    {
     "name": "stdout",
     "output_type": "stream",
     "text": [
      "Generated  . . . . . . . . . . . . . . . . . . . .\n",
      "Score:     0.8308326368923998\n",
      "\n",
      "Generated  . . . . . . . . . . . . . . . . . . . .\n",
      "Score:     0.8308326368923998\n",
      "\n",
      "Generated  . . . . . . . . . . . . . . . . . . . .\n",
      "Score:     0.8308326368923998\n",
      "\n",
      "Generated  . . . . . . . . . . . . . . . . . . . .\n",
      "Score:     0.8308326368923998\n",
      "\n",
      "Generated  . . . . . . . . . . . . . . . . . . . .\n",
      "Score:     0.8308326368923998\n",
      "\n",
      "Generated  . . . . . . . . . . . . . . . . . . . .\n",
      "Score:     0.8308326368923998\n",
      "\n",
      "Generated  . . . . . . . . . . . . . . . . . . . .\n",
      "Score:     0.8308326368923998\n",
      "\n",
      "Generated  . . . . . . . . . . . . . . . . . . . .\n",
      "Score:     0.8308326368923998\n",
      "\n",
      "Generated  . . . . . . . . . . . . . . . . . . . .\n",
      "Score:     0.8308326368923998\n",
      "\n",
      "Generated  . . . . . . . . . . . . . . . . . . . .\n",
      "Score:     0.8308326368923998\n",
      "\n"
     ]
    }
   ],
   "source": [
    "use_context = False\n",
    "score_only = False\n",
    "for i, (data, labels) in _tqdm(enumerate(train_loader), disable=True):\n",
    "    generated, scores = model.eval_step(data, use_context=use_context, score_only=score_only)            # batch predictions\n",
    "    \n",
    "    for k in range(K):\n",
    "        if use_context:\n",
    "            context = [model.v2t(d) for d in data][0]\n",
    "            context = [c[0] for c in context]\n",
    "            print(\"Context: \", ' '.join(context))  # print only one generated sentence out of the bsz \n",
    "        generated_str = [' '.join(g) for g in generated] # convert them to more readable strings     \n",
    "        print(\"Generated \", generated_str[0])  # print only one generated sentence out of the bsz \n",
    "        print(\"Score:    \", math.exp(scores[0]))  # print only one generated sentence out of the bsz \n",
    "        print(\"\")"
   ]
  },
  {
   "cell_type": "code",
   "execution_count": null,
   "metadata": {},
   "outputs": [],
   "source": []
  },
  {
   "cell_type": "code",
   "execution_count": null,
   "metadata": {},
   "outputs": [],
   "source": [
    "## Context"
   ]
  },
  {
   "cell_type": "code",
   "execution_count": 32,
   "metadata": {},
   "outputs": [
    {
     "name": "stdout",
     "output_type": "stream",
     "text": [
      "Context:  turquios and they are vibrant and beautiful ! the tutu\n",
      "Generated  . . . . . . . . . . . . . . . . . . . .\n",
      "Score:     0.515628171842232\n",
      "\n",
      "Context:  for this price and got exactly what i paid for\n",
      "Generated  . . . . . . . . . . . . . . . . . . . .\n",
      "Score:     0.629380253071013\n",
      "\n",
      "Context:  very good too since some of these go for over\n",
      "Generated  . . . . . . . . . . . . . . . . . . . .\n",
      "Score:     0.6611461879324816\n",
      "\n",
      "Context:  today and i ' m not a fan of it\n",
      "Generated  . . . . . . . . . . . . . . . . . . . .\n",
      "Score:     0.6009064061528239\n",
      "\n",
      "Context:  and at a really great price . it doesn '\n",
      "Generated  . . . . . . . . . . . . . . . . . . . .\n",
      "Score:     0.7314167613070153\n",
      "\n",
      "Context:  ! was hoping to order more in different colors .\n",
      "Generated  . . . . . . . . . . . . . . . . . . . .\n",
      "Score:     0.691386742321122\n",
      "\n",
      "Context:  price . it isn ' t a & # 34\n",
      "Generated  . . . . . . . . . . . . . . . . . . . .\n",
      "Score:     0.5948209214048114\n",
      "\n",
      "Context:  < < yr . old . it will be too\n",
      "Generated  < < < < < < < < < < < < < < < < < < < <\n",
      "Score:     0.5404708348939644\n",
      "\n",
      "Context:  her outfit for < . < < at < .\n",
      "Generated  < < < < < < < < < < < < < < < < < < < <\n",
      "Score:     0.8310807518078555\n",
      "\n",
      "Context:  cheap at all . i ' m so glad i\n",
      "Generated  . . . . . . . . . . . . . . . . . . . .\n",
      "Score:     0.6407602671436441\n",
      "\n"
     ]
    }
   ],
   "source": [
    "use_context = True\n",
    "score_only = False\n",
    "for i, (data, labels) in _tqdm(enumerate(train_loader), disable=True):\n",
    "    generated, scores = model.eval_step(data, use_context=use_context, score_only=score_only)            # batch predictions\n",
    "\n",
    "    for k in range(K):\n",
    "        if use_context:\n",
    "            context = [model.v2t(d) for d in data][k]\n",
    "            context = [c[0] for c in context]\n",
    "            print(\"Context: \", ' '.join(context))  # print only one generated sentence out of the bsz \n",
    "        generated_str = [' '.join(g) for g in generated] # convert them to more readable strings     \n",
    "        print(\"Generated \", generated_str[k])  # print only one generated sentence out of the bsz \n",
    "        print(\"Score:    \", math.exp(scores[k]))  # print only one generated sentence out of the bsz \n",
    "        print(\"\")"
   ]
  },
  {
   "cell_type": "markdown",
   "metadata": {},
   "source": [
    "#### Removed"
   ]
  },
  {
   "cell_type": "code",
   "execution_count": null,
   "metadata": {},
   "outputs": [],
   "source": []
  },
  {
   "cell_type": "code",
   "execution_count": null,
   "metadata": {},
   "outputs": [],
   "source": []
  }
 ],
 "metadata": {
  "colab": {
   "collapsed_sections": [],
   "include_colab_link": true,
   "name": "neural_lm.ipynb",
   "provenance": [],
   "version": "0.3.2"
  },
  "kernelspec": {
   "display_name": "Python 3",
   "language": "python",
   "name": "python3"
  },
  "language_info": {
   "codemirror_mode": {
    "name": "ipython",
    "version": 3
   },
   "file_extension": ".py",
   "mimetype": "text/x-python",
   "name": "python",
   "nbconvert_exporter": "python",
   "pygments_lexer": "ipython3",
   "version": "3.7.1"
  }
 },
 "nbformat": 4,
 "nbformat_minor": 2
}
