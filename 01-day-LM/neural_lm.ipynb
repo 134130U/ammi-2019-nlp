{
 "cells": [
  {
   "cell_type": "markdown",
   "metadata": {
    "colab_type": "text",
    "id": "view-in-github"
   },
   "source": [
    "<a href=\"https://colab.research.google.com/github/kyunghyuncho/ammi-2019-nlp/blob/master/01-day-LM/neural_lm.ipynb\" target=\"_parent\"><img src=\"https://colab.research.google.com/assets/colab-badge.svg\" alt=\"Open In Colab\"/></a>"
   ]
  },
  {
   "cell_type": "markdown",
   "metadata": {
    "colab": {},
    "colab_type": "code",
    "id": "ZNniJxhFMYCF"
   },
   "source": [
    "# Neural Language Modeling"
   ]
  },
  {
   "cell_type": "code",
   "execution_count": 1,
   "metadata": {},
   "outputs": [],
   "source": [
    "import os\n",
    "import sys\n",
    "sys.path.append('utils/')"
   ]
  },
  {
   "cell_type": "code",
   "execution_count": 2,
   "metadata": {},
   "outputs": [],
   "source": [
    "import utils.ngram_utils as ngram_utils\n",
    "from utils.amazon_dataset import AmazonDataset, pad, batchify\n",
    "from torch.utils.data import DataLoader\n",
    "from utils.neural_lm import BagOfNGrams, DecoderMLP, seq2seq\n",
    "import utils.global_variables as gl\n",
    "import torch\n",
    "from tqdm import tqdm_notebook, tqdm\n",
    "_tqdm = tqdm_notebook\n",
    "from utils.ngram_utils import NgramLM"
   ]
  },
  {
   "cell_type": "code",
   "execution_count": 3,
   "metadata": {},
   "outputs": [
    {
     "data": {
      "text/plain": [
       "<torch._C.Generator at 0x7f1fc1974530>"
      ]
     },
     "execution_count": 3,
     "metadata": {},
     "output_type": "execute_result"
    }
   ],
   "source": [
    "torch.manual_seed(1)\n"
   ]
  },
  {
   "cell_type": "code",
   "execution_count": 4,
   "metadata": {},
   "outputs": [],
   "source": [
    "# Read data from .txt files and create lists of reviews\n",
    "\n",
    "train_data = []\n",
    "# create a list of all the reviews \n",
    "with open('../data/amazon_reviews_clothing_train.txt', 'r') as f:\n",
    "    train_data = [review for review in f.read().split('\\n') if review]\n",
    "    \n",
    "valid_data = []\n",
    "# create a list of all the reviews \n",
    "with open('../data/amazon_reviews_clothing_valid.txt', 'r') as f:\n",
    "    valid_data = [review for review in f.read().split('\\n') if review]\n",
    "    "
   ]
  },
  {
   "cell_type": "code",
   "execution_count": 5,
   "metadata": {},
   "outputs": [
    {
     "data": {
      "text/plain": [
       "(222919, 27869)"
      ]
     },
     "execution_count": 5,
     "metadata": {},
     "output_type": "execute_result"
    }
   ],
   "source": [
    "len(train_data), len(valid_data)"
   ]
  },
  {
   "cell_type": "code",
   "execution_count": 6,
   "metadata": {},
   "outputs": [],
   "source": [
    "train_data = train_data[:100]\n",
    "valid_data = valid_data[:10]"
   ]
  },
  {
   "cell_type": "code",
   "execution_count": 7,
   "metadata": {},
   "outputs": [
    {
     "name": "stderr",
     "output_type": "stream",
     "text": [
      "100it [00:00, 525.79it/s]\n",
      "10it [00:00, 1291.83it/s]\n"
     ]
    }
   ],
   "source": [
    "# Tokenize the Datasets\n",
    "# TODO: this takes a really long time !! why?\n",
    "train_data_tokenized, all_tokens_train = ngram_utils.tokenize_dataset(train_data)\n",
    "valid_data_tokenized, all_tokens_valid = ngram_utils.tokenize_dataset(valid_data)\n"
   ]
  },
  {
   "cell_type": "code",
   "execution_count": 8,
   "metadata": {},
   "outputs": [],
   "source": [
    "train_ngram_lm = NgramLM(train_data_tokenized, all_tokens_train, n=1)\n",
    "valid_ngram_lm = NgramLM(valid_data_tokenized, all_tokens_valid, n=1)"
   ]
  },
  {
   "cell_type": "code",
   "execution_count": 9,
   "metadata": {},
   "outputs": [],
   "source": [
    "# TODO: make sure this makes sense for the valid data -- shouldn't we use the same dict for it?\n",
    "train_unigram = train_ngram_lm.ngram_data\n",
    "train_id2token_unigram = train_ngram_lm.id2token\n",
    "\n",
    "valid_unigram = valid_ngram_lm.ngram_data\n",
    "# valid_id2token_unigram = valid_ngram_lm.id2token "
   ]
  },
  {
   "cell_type": "code",
   "execution_count": 10,
   "metadata": {},
   "outputs": [],
   "source": [
    "N = 10  # N-grams"
   ]
  },
  {
   "cell_type": "code",
   "execution_count": 11,
   "metadata": {},
   "outputs": [],
   "source": [
    "# TODO: make sure this makes sense for the valid data -- shouldn't we use the same dict for it?\n",
    "train_data_id = train_ngram_lm.create_data_id(train_unigram)\n",
    "train_data_id_merged = train_ngram_lm.create_data_id_merged(train_data_id, N)\n",
    "\n",
    "valid_data_id = train_ngram_lm.create_data_id(valid_unigram)\n",
    "valid_data_id_merged = train_ngram_lm.create_data_id_merged(valid_data_id, N)"
   ]
  },
  {
   "cell_type": "code",
   "execution_count": 12,
   "metadata": {},
   "outputs": [],
   "source": [
    "# train_data_id[:2], train_data_id_merged[:2]"
   ]
  },
  {
   "cell_type": "code",
   "execution_count": 13,
   "metadata": {},
   "outputs": [],
   "source": [
    "# len(train_data_id_merged), len(valid_data_id_merged), train_data_id_merged[0]"
   ]
  },
  {
   "cell_type": "code",
   "execution_count": 14,
   "metadata": {},
   "outputs": [
    {
     "name": "stderr",
     "output_type": "stream",
     "text": [
      "100%|██████████| 15129/15129 [00:03<00:00, 3903.13it/s]\n",
      "100%|██████████| 459/459 [00:00<00:00, 8763.39it/s]\n"
     ]
    }
   ],
   "source": [
    "train_dataset = AmazonDataset(train_data_id_merged, max_inp_length=None, use_cuda=True)\n",
    "train_loader = DataLoader(train_dataset, batch_size=1048576, collate_fn=batchify, shuffle=True)\n",
    "\n",
    "valid_dataset = AmazonDataset(valid_data_id_merged, max_inp_length=None, use_cuda=True)\n",
    "valid_loader = DataLoader(valid_dataset, batch_size=1048576, collate_fn=batchify, shuffle=True)"
   ]
  },
  {
   "cell_type": "code",
   "execution_count": 15,
   "metadata": {},
   "outputs": [],
   "source": [
    "# train_dataset, train_loader"
   ]
  },
  {
   "cell_type": "code",
   "execution_count": 16,
   "metadata": {},
   "outputs": [],
   "source": [
    "# train_data_id_merged[:5]"
   ]
  },
  {
   "cell_type": "code",
   "execution_count": 17,
   "metadata": {},
   "outputs": [],
   "source": [
    "# train_dataset[0], train_dataset[0][0].shape, \\\n",
    "# valid_dataset[0], valid_dataset[0][0].shape"
   ]
  },
  {
   "cell_type": "code",
   "execution_count": 18,
   "metadata": {},
   "outputs": [
    {
     "name": "stdout",
     "output_type": "stream",
     "text": [
      "Epoch 0: Loss 7.605658054351807\n",
      "[('the',), ('computer',), ('speakers',), ('played',), ('the',), ('audio',), (',',), ('so',), ('why',), ('do',)]\n",
      "Context:  [('the',), ('computer',), ('speakers',), ('played',), ('the',), ('audio',), (',',), ('so',), ('why',), ('do',)]\n",
      "Generated Sentence:  fretting weekends future unsuccessfully pass pass pass cds seem seem seem desktop differences shirts shirts desktop italy shirt shirt shirt\n",
      "\n"
     ]
    }
   ],
   "source": [
    "# N = 10 from above\n",
    "from utils.neural_lm import BagOfNGrams, DecoderMLP, seq2seq\n",
    "num_epochs = 500\n",
    "context = True\n",
    "encoder = BagOfNGrams(len(train_id2token_unigram), emb_dim=300, hidden_size=512, out_size=256, activation='Tanh', nlayers=1, reduce='mean', dropout=0.0, batch_norm=False)\n",
    "decoder = DecoderMLP(input_size=256, output_size=len(train_id2token_unigram), hidden_size=512)\n",
    "model = seq2seq(encoder, decoder, train_id2token_unigram, use_cuda=False, lr=1e-1, size_ngrams=N)\n",
    "\n",
    "for epoch in range(num_epochs):\n",
    "    # Train\n",
    "    train_loss_epoch = 0\n",
    "    for i, (data, labels) in tqdm(enumerate(train_loader), disable=True):\n",
    "        prediction, loss = model.train_step(data, labels)\n",
    "        train_loss_epoch += loss\n",
    "        \n",
    "    if epoch % 1 == 0:\n",
    "        print(\"Epoch {}: Loss {}\".format(epoch, train_loss_epoch))\n",
    "        generated = model.eval_step(data, use_context=context)            # batch predictions\n",
    "        if context:\n",
    "            print(\"Context: \", [model.v2t(d) for d in data][0])  # print only one generated sentence out of the bsz \n",
    "        generated_str = [' '.join(g) for g in generated] # convert them to more readable strings     \n",
    "        print(\"Generated Sentence: \", generated_str[0])  # print only one generated sentence out of the bsz \n",
    "        print(\"\")\n",
    "        break\n",
    "        \n"
   ]
  },
  {
   "cell_type": "code",
   "execution_count": 19,
   "metadata": {},
   "outputs": [
    {
     "ename": "SyntaxError",
     "evalue": "invalid syntax (<ipython-input-19-844c10f5a5b8>, line 1)",
     "output_type": "error",
     "traceback": [
      "\u001b[0;36m  File \u001b[0;32m\"<ipython-input-19-844c10f5a5b8>\"\u001b[0;36m, line \u001b[0;32m1\u001b[0m\n\u001b[0;31m    Epoch 0: Loss 7.605658054351807\u001b[0m\n\u001b[0m          ^\u001b[0m\n\u001b[0;31mSyntaxError\u001b[0m\u001b[0;31m:\u001b[0m invalid syntax\n"
     ]
    }
   ],
   "source": [
    "Epoch 0: Loss 7.605658054351807\n",
    "[[('the',), ('computer',), ('speakers',), ('played',), ('the',), ('audio',), (',',), ('so',), ('why',), ('do',)], [('ok',), (',',), ('what',), ('i',), ('don',), (\"'\",), ('t',), ('like',), ('-',), ('the',)], [('it',), ('is',), ('well',), ('built',), ('and',), ('we',), ('hope',), ('she',), ('gets',), ('lots',)]]\n",
    "Generated Sentence:  fretting weekends future unsuccessfully pass pass pass cds seem seem seem desktop differences shirts shirts desktop italy shirt shirt shirt\n",
    "\n",
    "\n",
    "Epoch 0: Loss 7.605658054351807\n",
    "['<sos>', '<sos>', '<sos>', '<sos>', '<sos>', '<sos>', '<sos>', '<sos>', '<sos>', '<sos>']\n",
    "Generated Sentence:  13 weekends weekends stash stash boring giving high high high purse purse holding participation finish finish corsican corsican corsican limited\n"
   ]
  },
  {
   "cell_type": "code",
   "execution_count": null,
   "metadata": {},
   "outputs": [],
   "source": [
    "# len(generated), generated[0], generated[1], len(data[:2])"
   ]
  },
  {
   "cell_type": "code",
   "execution_count": null,
   "metadata": {},
   "outputs": [],
   "source": [
    "# generated_str, len(generated_str), generated_str[0]"
   ]
  },
  {
   "cell_type": "code",
   "execution_count": null,
   "metadata": {},
   "outputs": [],
   "source": []
  }
 ],
 "metadata": {
  "colab": {
   "collapsed_sections": [],
   "include_colab_link": true,
   "name": "neural_lm.ipynb",
   "provenance": [],
   "version": "0.3.2"
  },
  "kernelspec": {
   "display_name": "Python 3",
   "language": "python",
   "name": "python3"
  },
  "language_info": {
   "codemirror_mode": {
    "name": "ipython",
    "version": 3
   },
   "file_extension": ".py",
   "mimetype": "text/x-python",
   "name": "python",
   "nbconvert_exporter": "python",
   "pygments_lexer": "ipython3",
   "version": "3.7.1"
  }
 },
 "nbformat": 4,
 "nbformat_minor": 2
}
