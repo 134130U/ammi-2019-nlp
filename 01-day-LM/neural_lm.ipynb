{
 "cells": [
  {
   "cell_type": "markdown",
   "metadata": {
    "colab_type": "text",
    "id": "view-in-github"
   },
   "source": [
    "<a href=\"https://colab.research.google.com/github/kyunghyuncho/ammi-2019-nlp/blob/master/01-day-LM/neural_lm.ipynb\" target=\"_parent\"><img src=\"https://colab.research.google.com/assets/colab-badge.svg\" alt=\"Open In Colab\"/></a>"
   ]
  },
  {
   "cell_type": "markdown",
   "metadata": {
    "colab": {},
    "colab_type": "code",
    "id": "ZNniJxhFMYCF"
   },
   "source": [
    "# Neural Language Modeling"
   ]
  },
  {
   "cell_type": "code",
   "execution_count": 1,
   "metadata": {},
   "outputs": [],
   "source": [
    "import os\n",
    "import sys\n",
    "sys.path.append('utils/')"
   ]
  },
  {
   "cell_type": "code",
   "execution_count": 2,
   "metadata": {},
   "outputs": [],
   "source": [
    "import utils.ngram_utils as ngram_utils\n",
    "from utils.amazon_dataset import AmazonDataset, pad, batchify\n",
    "from torch.utils.data import DataLoader\n",
    "from utils.neural_lm import BagOfNGrams, DecoderMLP, seq2seq\n",
    "import utils.global_variables as gl\n",
    "import torch\n",
    "from tqdm import tqdm_notebook, tqdm\n",
    "_tqdm = tqdm_notebook\n",
    "from utils.ngram_utils import NgramLM"
   ]
  },
  {
   "cell_type": "code",
   "execution_count": 3,
   "metadata": {},
   "outputs": [
    {
     "data": {
      "text/plain": [
       "<torch._C.Generator at 0x7fbdf9c9a550>"
      ]
     },
     "execution_count": 3,
     "metadata": {},
     "output_type": "execute_result"
    }
   ],
   "source": [
    "torch.manual_seed(1)\n"
   ]
  },
  {
   "cell_type": "code",
   "execution_count": 4,
   "metadata": {},
   "outputs": [],
   "source": [
    "# Read data from .txt files and create lists of reviews\n",
    "\n",
    "train_data = []\n",
    "# create a list of all the reviews \n",
    "with open('../data/amazon_reviews_clothing_train.txt', 'r') as f:\n",
    "    train_data = [review for review in f.read().split('\\n') if review]\n",
    "    \n",
    "valid_data = []\n",
    "# create a list of all the reviews \n",
    "with open('../data/amazon_reviews_clothing_valid.txt', 'r') as f:\n",
    "    valid_data = [review for review in f.read().split('\\n') if review]\n",
    "    "
   ]
  },
  {
   "cell_type": "code",
   "execution_count": null,
   "metadata": {},
   "outputs": [
    {
     "data": {
      "text/plain": [
       "(222919, 27869)"
      ]
     },
     "execution_count": 5,
     "metadata": {},
     "output_type": "execute_result"
    }
   ],
   "source": [
    "len(train_data), len(valid_data)"
   ]
  },
  {
   "cell_type": "code",
   "execution_count": null,
   "metadata": {},
   "outputs": [],
   "source": [
    "train_data = train_data[:100]\n",
    "valid_data = valid_data[:10]"
   ]
  },
  {
   "cell_type": "code",
   "execution_count": null,
   "metadata": {},
   "outputs": [
    {
     "name": "stderr",
     "output_type": "stream",
     "text": [
      "100it [00:00, 594.17it/s]\n",
      "10it [00:00, 2091.92it/s]\n"
     ]
    }
   ],
   "source": [
    "# Tokenize the Datasets\n",
    "# TODO: this takes a really long time !! why?\n",
    "train_data_tokenized, all_tokens_train = ngram_utils.tokenize_dataset(train_data)\n",
    "valid_data_tokenized, all_tokens_valid = ngram_utils.tokenize_dataset(valid_data)\n"
   ]
  },
  {
   "cell_type": "code",
   "execution_count": null,
   "metadata": {},
   "outputs": [],
   "source": [
    "train_ngram_lm = NgramLM(train_data_tokenized, all_tokens_train, n=1)\n",
    "valid_ngram_lm = NgramLM(valid_data_tokenized, all_tokens_valid, n=1)"
   ]
  },
  {
   "cell_type": "code",
   "execution_count": null,
   "metadata": {},
   "outputs": [],
   "source": [
    "# TODO: make sure this makes sense for the valid data -- shouldn't we use the same dict for it?\n",
    "train_unigram = train_ngram_lm.ngram_data\n",
    "train_id2token_unigram = train_ngram_lm.id2token\n",
    "\n",
    "valid_unigram = valid_ngram_lm.ngram_data\n",
    "# valid_id2token_unigram = valid_ngram_lm.id2token "
   ]
  },
  {
   "cell_type": "code",
   "execution_count": null,
   "metadata": {},
   "outputs": [],
   "source": [
    "# TODO: make sure this makes sense for the valid data -- shouldn't we use the same dict for it?\n",
    "N = 10\n",
    "train_data_id = train_ngram_lm.create_data_id(train_unigram)\n",
    "train_data_id_merged = train_ngram_lm.create_data_id_merged(train_data_id, N)\n",
    "\n",
    "valid_data_id = train_ngram_lm.create_data_id(valid_unigram)\n",
    "valid_data_id_merged = train_ngram_lm.create_data_id_merged(valid_data_id, N)"
   ]
  },
  {
   "cell_type": "code",
   "execution_count": null,
   "metadata": {},
   "outputs": [],
   "source": [
    "# train_data_id[:2], train_data_id_merged[:2]"
   ]
  },
  {
   "cell_type": "code",
   "execution_count": null,
   "metadata": {},
   "outputs": [],
   "source": [
    "# len(train_data_id_merged), len(valid_data_id_merged), train_data_id_merged[0]"
   ]
  },
  {
   "cell_type": "code",
   "execution_count": null,
   "metadata": {},
   "outputs": [
    {
     "name": "stderr",
     "output_type": "stream",
     "text": [
      "100%|██████████| 15129/15129 [00:03<00:00, 4203.73it/s]\n",
      "100%|██████████| 459/459 [00:00<00:00, 15177.11it/s]\n"
     ]
    }
   ],
   "source": [
    "train_dataset = AmazonDataset(train_data_id_merged, max_inp_length=None, use_cuda=True)\n",
    "train_loader = DataLoader(train_dataset, batch_size=1048576, collate_fn=batchify, shuffle=True)\n",
    "\n",
    "valid_dataset = AmazonDataset(valid_data_id_merged, max_inp_length=None, use_cuda=True)\n",
    "valid_loader = DataLoader(valid_dataset, batch_size=1048576, collate_fn=batchify, shuffle=True)"
   ]
  },
  {
   "cell_type": "code",
   "execution_count": null,
   "metadata": {},
   "outputs": [],
   "source": [
    "# train_dataset, train_loader"
   ]
  },
  {
   "cell_type": "code",
   "execution_count": null,
   "metadata": {},
   "outputs": [],
   "source": [
    "# train_data_id_merged[:5]"
   ]
  },
  {
   "cell_type": "code",
   "execution_count": null,
   "metadata": {},
   "outputs": [],
   "source": [
    "# train_dataset[0], train_dataset[0][0].shape, \\\n",
    "# valid_dataset[0], valid_dataset[0][0].shape"
   ]
  },
  {
   "cell_type": "code",
   "execution_count": null,
   "metadata": {},
   "outputs": [
    {
     "name": "stdout",
     "output_type": "stream",
     "text": [
      "Epoch 0: Loss 7.605658054351807\n",
      "Generated Sentence:  13 weekends weekends stash stash boring giving high high high purse purse holding participation finish finish corsican corsican corsican limited\n",
      "\n",
      "Epoch 1: Loss 7.593083381652832\n",
      "Generated Sentence:  13 weekends weekends stash stash boring giving high high high purse purse holding participation finish finish corsican corsican corsican limited\n",
      "\n",
      "Epoch 2: Loss 7.5744218826293945\n",
      "Generated Sentence:  13 weekends weekends stash ' ' ' boring times low sets limited sets considers considers considers you you you you\n",
      "\n",
      "Epoch 3: Loss 7.54962158203125\n",
      "Generated Sentence:  13 weekends you you you pronouce pronouce pronouce lesser lesser excited . lesser lesser thrilled and you you you you\n",
      "\n",
      "Epoch 4: Loss 7.518049240112305\n",
      "Generated Sentence:  you you you to , , , . . . . . . . . . . . . .\n",
      "\n",
      "Epoch 5: Loss 7.478518009185791\n",
      "Generated Sentence:  . . . . . . . . . . . . . . . . . . . .\n",
      "\n",
      "Epoch 6: Loss 7.428413391113281\n",
      "Generated Sentence:  . . . . . . . . . . . . . . . . . . . .\n",
      "\n",
      "Epoch 7: Loss 7.362854480743408\n",
      "Generated Sentence:  . . . . . . . . . . . . . . . . . . . .\n",
      "\n",
      "Epoch 8: Loss 7.273213863372803\n",
      "Generated Sentence:  . . . . . . . . . . . . . . . . . . . .\n",
      "\n",
      "Epoch 9: Loss 7.1464738845825195\n",
      "Generated Sentence:  . . . . . . . . . . . . . . . . . . . .\n",
      "\n",
      "Epoch 10: Loss 6.967611312866211\n",
      "Generated Sentence:  . . . . . . . . . . . . . . . . . . . .\n",
      "\n",
      "Epoch 11: Loss 6.757143974304199\n",
      "Generated Sentence:  . . . . . . . . . . . . . . . . . . . .\n",
      "\n",
      "Epoch 12: Loss 6.755155563354492\n",
      "Generated Sentence:  . . . . . . . . . . . . . . . . . . . .\n",
      "\n",
      "Epoch 13: Loss 7.047082424163818\n",
      "Generated Sentence:  . . . . . . . . . . . . . . . . . . . .\n",
      "\n",
      "Epoch 14: Loss 7.45193338394165\n",
      "Generated Sentence:  , , , , , , , , , , , , , , , , , , , ,\n",
      "\n",
      "Epoch 15: Loss 7.803567886352539\n",
      "Generated Sentence:  , , , , , , , , , , , , , , , , , , , ,\n",
      "\n",
      "Epoch 16: Loss 7.984959602355957\n",
      "Generated Sentence:  , , , , , , , , , , , , , , , , , , , ,\n",
      "\n",
      "Epoch 17: Loss 7.934460163116455\n",
      "Generated Sentence:  , , , , , , , , , , , , , , , , , , , ,\n",
      "\n",
      "Epoch 18: Loss 7.670596599578857\n",
      "Generated Sentence:  , , , , , , , , , , , , , , , , , , , ,\n",
      "\n",
      "Epoch 19: Loss 7.280900001525879\n",
      "Generated Sentence:  , , , , , , , , , , , , , , , , , , , ,\n",
      "\n",
      "Epoch 20: Loss 6.862343788146973\n",
      "Generated Sentence:  , , , , , , , , , , , , , , , , , , , ,\n",
      "\n",
      "Epoch 21: Loss 6.506401538848877\n",
      "Generated Sentence:  , , , , , , , , , , , , , , , , , , , ,\n",
      "\n",
      "Epoch 22: Loss 6.330219268798828\n",
      "Generated Sentence:  , , , , , , , , , , , , , , , , , , , ,\n",
      "\n",
      "Epoch 23: Loss 6.353268623352051\n",
      "Generated Sentence:  . . , , , , , , , , , , , , , , , , , ,\n",
      "\n",
      "Epoch 24: Loss 6.385121822357178\n",
      "Generated Sentence:  . . . . . i to to a a a a to a a . . to to to\n",
      "\n",
      "Epoch 25: Loss 6.3860602378845215\n",
      "Generated Sentence:  . . . . . . . the the the the . . . . . . . the the\n",
      "\n",
      "Epoch 26: Loss 6.351352691650391\n",
      "Generated Sentence:  . . . . . . . . the the the . . . . . . . . the\n",
      "\n",
      "Epoch 27: Loss 6.288139820098877\n",
      "Generated Sentence:  . . . . . . . . . . the . . . . . . . . .\n",
      "\n",
      "Epoch 28: Loss 6.218749046325684\n",
      "Generated Sentence:  . . . . . . . . . . . . . . . . . . . .\n",
      "\n",
      "Epoch 29: Loss 6.186715126037598\n",
      "Generated Sentence:  . . . . . . . . . . the . . . . . . . . .\n",
      "\n",
      "Epoch 30: Loss 6.176455020904541\n",
      "Generated Sentence:  . . . . . . . . the the the . . . . . . . . the\n",
      "\n",
      "Epoch 31: Loss 6.1539835929870605\n",
      "Generated Sentence:  . . . . . . . the the the the , , , , , , , , ,\n",
      "\n",
      "Epoch 32: Loss 6.122572898864746\n",
      "Generated Sentence:  . . , , , , , , , , , , , , , , , , , ,\n",
      "\n",
      "Epoch 33: Loss 6.095466136932373\n",
      "Generated Sentence:  , , , , , , , , , , , , , , , , , , , ,\n",
      "\n",
      "Epoch 34: Loss 6.076622486114502\n",
      "Generated Sentence:  , , , , , , , , , , , , , , , , , , , ,\n",
      "\n",
      "Epoch 35: Loss 6.060119152069092\n",
      "Generated Sentence:  , , , , , , , , , , , , , , , , , , , ,\n",
      "\n",
      "Epoch 36: Loss 6.043140888214111\n",
      "Generated Sentence:  , , , , , , , , , , , , , , , , , , , ,\n",
      "\n",
      "Epoch 37: Loss 6.025570392608643\n",
      "Generated Sentence:  , , , , , , , , , , , , , , , , , , , ,\n",
      "\n",
      "Epoch 38: Loss 6.008169174194336\n",
      "Generated Sentence:  , , , , , , , , , , , , , , , , , , , ,\n",
      "\n",
      "Epoch 39: Loss 5.9914631843566895\n",
      "Generated Sentence:  , , , , , , , , , , , , , , , , , , , ,\n",
      "\n",
      "Epoch 40: Loss 5.975296497344971\n",
      "Generated Sentence:  , , , , , , , , , , , , , , , , , , , ,\n",
      "\n",
      "Epoch 41: Loss 5.9593586921691895\n",
      "Generated Sentence:  . , , , , , , , , , , , , , , , , , , ,\n",
      "\n",
      "Epoch 42: Loss 5.943656921386719\n",
      "Generated Sentence:  . , , , , , , , , , , , , , , , , , , ,\n",
      "\n",
      "Epoch 43: Loss 5.928685188293457\n",
      "Generated Sentence:  . , , , , , , , , , , , , , , , , , , ,\n",
      "\n",
      "Epoch 44: Loss 5.914761066436768\n",
      "Generated Sentence:  . , , , , , , , , , , , , , , , , , , ,\n",
      "\n",
      "Epoch 45: Loss 5.902118682861328\n",
      "Generated Sentence:  . , , , , , , , , , , and and , , , , , , ,\n",
      "\n",
      "Epoch 46: Loss 5.890470504760742\n",
      "Generated Sentence:  . , , , , , , , , , , and and and , , , , , ,\n",
      "\n",
      "Epoch 47: Loss 5.879520893096924\n",
      "Generated Sentence:  . , , , , , , , , , , and and and , , , , , ,\n",
      "\n",
      "Epoch 48: Loss 5.869064807891846\n",
      "Generated Sentence:  , , , , , , and and and , , , , , , , , and and and\n",
      "\n",
      "Epoch 49: Loss 5.858980655670166\n",
      "Generated Sentence:  , , , , , , , and and , , , , , , , , , and and\n",
      "\n",
      "Epoch 50: Loss 5.849379539489746\n",
      "Generated Sentence:  , , , , , , , , , and , , , , , , , , , ,\n",
      "\n"
     ]
    }
   ],
   "source": [
    "num_epochs = 500\n",
    "encoder = BagOfNGrams(len(train_id2token_unigram), emb_dim=300, hidden_size=512, out_size=256, activation='Tanh', nlayers=1, reduce='mean', dropout=0.0, batch_norm=False)\n",
    "decoder = DecoderMLP(input_size=256, output_size=len(train_id2token_unigram), hidden_size=512)\n",
    "model = seq2seq(encoder, decoder, train_id2token_unigram, use_cuda=False, lr=1e-1)\n",
    "\n",
    "for epoch in range(num_epochs):\n",
    "    # Train\n",
    "    train_loss_epoch = 0\n",
    "    for i, (data, labels) in tqdm(enumerate(train_loader), disable=True):\n",
    "        prediction, loss = model.train_step(data, labels)\n",
    "        train_loss_epoch += loss\n",
    "    if epoch % 1 == 0:\n",
    "        print(\"Epoch {}: Loss {}\".format(epoch, train_loss_epoch))\n",
    "#         print(\"prediction \", prediction)\n",
    "\n",
    "        generated = model.eval_step()\n",
    "        generated_str = ' '.join([g[0] for g in generated])\n",
    "        print(\"Generated Sentence: \", generated_str)\n",
    "        print(\"\")\n",
    "        \n"
   ]
  },
  {
   "cell_type": "code",
   "execution_count": null,
   "metadata": {},
   "outputs": [],
   "source": []
  },
  {
   "cell_type": "code",
   "execution_count": null,
   "metadata": {},
   "outputs": [],
   "source": []
  },
  {
   "cell_type": "code",
   "execution_count": null,
   "metadata": {},
   "outputs": [],
   "source": []
  }
 ],
 "metadata": {
  "colab": {
   "collapsed_sections": [],
   "include_colab_link": true,
   "name": "neural_lm.ipynb",
   "provenance": [],
   "version": "0.3.2"
  },
  "kernelspec": {
   "display_name": "Python 3",
   "language": "python",
   "name": "python3"
  },
  "language_info": {
   "codemirror_mode": {
    "name": "ipython",
    "version": 3
   },
   "file_extension": ".py",
   "mimetype": "text/x-python",
   "name": "python",
   "nbconvert_exporter": "python",
   "pygments_lexer": "ipython3",
   "version": "3.7.1"
  }
 },
 "nbformat": 4,
 "nbformat_minor": 2
}
