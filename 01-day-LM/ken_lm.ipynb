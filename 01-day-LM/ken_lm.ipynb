{
 "cells": [
  {
   "cell_type": "markdown",
   "metadata": {
    "colab_type": "text",
    "id": "view-in-github"
   },
   "source": [
    "<a href=\"https://colab.research.google.com/github/kyunghyuncho/ammi-2019-nlp/blob/master/01-day-LM/ken_lm.ipynb\" target=\"_parent\"><img src=\"https://colab.research.google.com/assets/colab-badge.svg\" alt=\"Open In Colab\"/></a>"
   ]
  },
  {
   "cell_type": "markdown",
   "metadata": {
    "colab_type": "text",
    "id": "CVGBphEakB1c"
   },
   "source": [
    "# KenLM Framework for Language Modeling"
   ]
  },
  {
   "cell_type": "markdown",
   "metadata": {
    "colab_type": "text",
    "id": "_mu9NmEikGja"
   },
   "source": [
    "\n",
    "**Install KenLM**\n",
    "\n",
    "Download stable release and unzip: http://kheafield.com/code/kenlm.tar.gz\n",
    "\n",
    "Need Boost >= 1.42.0 and bjam\n",
    "*   Ubuntu: sudo apt-get install libboost-all-dev\n",
    "*   Mac: brew install boost; brew install bjam\n",
    "\n",
    "Run within kenlm directory:\n",
    "    \n",
    "*  mkdir -p build\n",
    "  *  cd build\n",
    "  *  cmake ..\n",
    "  *  make -j 4\n",
    " \n",
    "pip install https://github.com/kpu/kenlm/archive/master.zip\n",
    "\n",
    "For more information on KenLM see: https://github.com/kpu/kenlm and http://kheafield.com/code/kenlm/\n",
    "\n",
    "TODO: need to get some trained language models: nli_5gram.binary and sentiment.binary. How should we do that? \n",
    "\n"
   ]
  },
  {
   "cell_type": "code",
   "execution_count": 32,
   "metadata": {
    "colab": {
     "base_uri": "https://localhost:8080/",
     "height": 317
    },
    "colab_type": "code",
    "id": "90dlx6MzkrRB",
    "outputId": "6d2e42e5-3675-4d87-b79a-ff562b9e4c27"
   },
   "outputs": [],
   "source": [
    "import kenlm\n",
    "import os\n",
    "import re"
   ]
  },
  {
   "cell_type": "code",
   "execution_count": 33,
   "metadata": {},
   "outputs": [],
   "source": [
    "path = '/home/roberta/ammi-2019-nlp/data/amazon_reviews'\n",
    "os.chdir(path)\n"
   ]
  },
  {
   "cell_type": "code",
   "execution_count": 22,
   "metadata": {},
   "outputs": [
    {
     "name": "stdout",
     "output_type": "stream",
     "text": [
      "=== 1/5 Counting and sorting n-grams ===\n",
      "File stdin isn't normal.  Using slower read() instead of mmap().  No progress bar.\n",
      "=== 2/5 Calculating and sorting adjusted counts ===\n",
      "Chain sizes: 1:860352 2:75230912512 3:141057966080\n",
      "Statistics:\n",
      "1 71696 D1=0.690098 D2=0.962667 D3+=1.22676\n",
      "2 1239185 D1=0.712943 D2=1.05296 D3+=1.36242\n",
      "3 4834597 D1=0.772513 D2=1.0869 D3+=1.33918\n",
      "Memory estimate for binary LM:\n",
      "type     MB\n",
      "probing 113 assuming -p 1.5\n",
      "probing 120 assuming -r models -p 1.5\n",
      "trie     44 without quantization\n",
      "trie     24 assuming -q 8 -b 8 quantization \n",
      "trie     42 assuming -a 22 array pointer compression\n",
      "trie     22 assuming -a 22 -q 8 -b 8 array pointer compression and quantization\n",
      "=== 3/5 Calculating and sorting initial probabilities ===\n",
      "Chain sizes: 1:860352 2:19826960 3:96691940\n",
      "----5---10---15---20---25---30---35---40---45---50---55---60---65---70---75---80---85---90---95--100\n",
      "####################################################################################################\n",
      "=== 4/5 Calculating and writing order-interpolated probabilities ===\n",
      "Chain sizes: 1:860352 2:19826960 3:96691940\n",
      "----5---10---15---20---25---30---35---40---45---50---55---60---65---70---75---80---85---90---95--100\n",
      "****************************************************************************************************\n",
      "Chain sizes: 1:860352 2:19826960 3:96691940\n",
      "=== 5/5 Writing ARPA model ===\n",
      "Name:lmplz\tVmPeak:211453080 kB\tVmRSS:27996 kB\tRSSMax:0 kB\tuser:0\tsys:0\tCPU:0\treal:60.9375\n"
     ]
    }
   ],
   "source": [
    "cat train.txt | /home/roberta/kenlm/bin/lmplz -o 3 > amazonLM.arpa"
   ]
  },
  {
   "cell_type": "code",
   "execution_count": 27,
   "metadata": {},
   "outputs": [
    {
     "ename": "SyntaxError",
     "evalue": "invalid syntax (<ipython-input-27-ecd3859afa75>, line 3)",
     "output_type": "error",
     "traceback": [
      "\u001b[0;36m  File \u001b[0;32m\"<ipython-input-27-ecd3859afa75>\"\u001b[0;36m, line \u001b[0;32m3\u001b[0m\n\u001b[0;31m    kenlm/bin/lmplz amazonLM.arpa amazonLM.klm\u001b[0m\n\u001b[0m                           ^\u001b[0m\n\u001b[0;31mSyntaxError\u001b[0m\u001b[0;31m:\u001b[0m invalid syntax\n"
     ]
    }
   ],
   "source": [
    "# path = '/home/roberta'\n",
    "# os.chdir(path)\n",
    "# kenlm/bin/lmplz amazonLM.arpa amazonLM.klm"
   ]
  },
  {
   "cell_type": "code",
   "execution_count": 28,
   "metadata": {},
   "outputs": [
    {
     "data": {
      "text/plain": [
       "-10.064966201782227"
      ]
     },
     "execution_count": 28,
     "metadata": {},
     "output_type": "execute_result"
    }
   ],
   "source": [
    "import kenlm\n",
    "model = kenlm.LanguageModel('amazonLM.arpa')\n",
    "score = model.score('i like this tutu')\n",
    "score"
   ]
  },
  {
   "cell_type": "markdown",
   "metadata": {
    "colab_type": "text",
    "id": "ov42EMhflktI"
   },
   "source": [
    "#### The KenLM model reports negative log likelihood, not perplexity. So we'll be converting the score and report net perplexity. The following function calculate the perpelxity, get_ppl, and find all OOV words, get_oov.\n",
    "\n",
    "#### Pereplexity is defined as follows, $$ PPL = b^{- \\frac{1}{N} \\sum_{i=1}^N \\log_b q(x_i)} $$ All probabilities here are in log base 10 so to convert to perplexity, we do the following $$PPL = 10^{-\\log(P) / N} $$ where $P$ is the total NLL, and $N$ is the word count."
   ]
  },
  {
   "cell_type": "code",
   "execution_count": 51,
   "metadata": {
    "colab": {},
    "colab_type": "code",
    "id": "KLsISNQNlKff"
   },
   "outputs": [],
   "source": [
    "def get_ppl(lm, sentences):\n",
    "    \"\"\"\n",
    "    Assume sentences is a list of strings (space delimited sentences)\n",
    "    \"\"\"\n",
    "    total_nll = 0\n",
    "    total_wc = 0\n",
    "    for sent in sentences:\n",
    "        sent = re.sub(r\"([\\w/'+$\\s-]+|[^\\w/'+$\\s-]+)\\s*\", r\"\\1 \", sent)\n",
    "        words = sent.strip().split()\n",
    "        score = lm.score(sent, bos=False, eos=False)\n",
    "        word_count = len(words)\n",
    "        total_wc += word_count\n",
    "        total_nll += score\n",
    "    ppl = 10**-(total_nll/total_wc)\n",
    "    return ppl\n"
   ]
  },
  {
   "cell_type": "markdown",
   "metadata": {
    "colab_type": "text",
    "id": "4unImHqblPQ9"
   },
   "source": [
    "Function for loading the data"
   ]
  },
  {
   "cell_type": "code",
   "execution_count": 56,
   "metadata": {},
   "outputs": [
    {
     "data": {
      "text/plain": [
       "230.70962836087295"
      ]
     },
     "execution_count": 56,
     "metadata": {},
     "output_type": "execute_result"
    }
   ],
   "source": [
    "sentences = [('i like this tutu')]\n",
    "ppl = get_ppl(model, sentences)\n",
    "ppl"
   ]
  },
  {
   "cell_type": "code",
   "execution_count": 52,
   "metadata": {
    "colab": {},
    "colab_type": "code",
    "id": "7ln_ECRFlNnA"
   },
   "outputs": [],
   "source": [
    "def load_data(path):\n",
    "    data = []\n",
    "    with open(path) as f:\n",
    "        for i, line in enumerate(f): \n",
    "            data.append(line)\n",
    "    return data"
   ]
  },
  {
   "cell_type": "code",
   "execution_count": 59,
   "metadata": {},
   "outputs": [],
   "source": [
    "def get_oov(model, data):\n",
    "    oov = []\n",
    "    vocab = []\n",
    "    for sent in data:\n",
    "        sentence = sent\n",
    "        words =  sentence.split()\n",
    "        vocab += words\n",
    "        # Find out-of-vocabulary words\n",
    "        for w in words:\n",
    "            if w not in model:\n",
    "                    oov.append(w)\n",
    "    return set(oov), set(vocab)"
   ]
  },
  {
   "cell_type": "code",
   "execution_count": 63,
   "metadata": {},
   "outputs": [
    {
     "data": {
      "text/plain": [
       "[\"this is a great tutu and at a really great price . it doesn ' t look cheap at all . i ' m so glad i looked on amazon and found such an affordable tutu that isn ' t made poorly . a + + \\n\",\n",
       " 'i bought this for my 4 yr old daughter for dance class , she wore it today for the first time and the teacher thought it was adorable . i bought this to go with a light blue long sleeve leotard and was happy the colors matched up great . price was very good too since some of these go for over $ 15 . 00 dollars . \\n',\n",
       " 'what can i say . . . my daughters have it in orange , black , white and pink and i am thinking to buy for they the fuccia one . it is a very good way for exalt a dancer outfit : great colors , comfortable , looks great , easy to wear , durables and little girls love it . i think it is a great buy for costumer and play too . \\n']"
      ]
     },
     "execution_count": 63,
     "metadata": {},
     "output_type": "execute_result"
    }
   ],
   "source": [
    "path_to_data = '/home/roberta/ammi-2019-nlp/data/amazon_reviews/train.txt'\n",
    "data = load_data(path_to_data)\n",
    "data[:3]"
   ]
  },
  {
   "cell_type": "code",
   "execution_count": 65,
   "metadata": {},
   "outputs": [
    {
     "data": {
      "text/plain": [
       "set()"
      ]
     },
     "execution_count": 65,
     "metadata": {},
     "output_type": "execute_result"
    }
   ],
   "source": [
    "oov = get_oov(model, data)\n",
    "# oov[0]"
   ]
  },
  {
   "cell_type": "code",
   "execution_count": null,
   "metadata": {},
   "outputs": [],
   "source": []
  }
 ],
 "metadata": {
  "colab": {
   "collapsed_sections": [],
   "include_colab_link": true,
   "name": "ken_lm.ipynb",
   "provenance": [],
   "version": "0.3.2"
  },
  "kernelspec": {
   "display_name": "Python 3",
   "language": "python",
   "name": "python3"
  },
  "language_info": {
   "codemirror_mode": {
    "name": "ipython",
    "version": 3
   },
   "file_extension": ".py",
   "mimetype": "text/x-python",
   "name": "python",
   "nbconvert_exporter": "python",
   "pygments_lexer": "ipython3",
   "version": "3.7.1"
  }
 },
 "nbformat": 4,
 "nbformat_minor": 2
}
