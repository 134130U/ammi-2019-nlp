{
 "cells": [
  {
   "cell_type": "markdown",
   "metadata": {
    "colab_type": "text",
    "id": "view-in-github"
   },
   "source": [
    "<a href=\"https://colab.research.google.com/github/kyunghyuncho/ammi-2019-nlp/blob/master/01-day-LM/ken_lm.ipynb\" target=\"_parent\"><img src=\"https://colab.research.google.com/assets/colab-badge.svg\" alt=\"Open In Colab\"/></a>"
   ]
  },
  {
   "cell_type": "markdown",
   "metadata": {
    "colab_type": "text",
    "id": "CVGBphEakB1c"
   },
   "source": [
    "# KenLM Framework for Language Modeling"
   ]
  },
  {
   "cell_type": "markdown",
   "metadata": {
    "colab_type": "text",
    "id": "_mu9NmEikGja"
   },
   "source": [
    "\n",
    "## Install KenLM\n",
    "\n",
    "#### git clone https://github.com/vchahun/kenlm.git\n",
    "#### pushd kenlm\n",
    "#### ./bjam\n",
    "#### python setup.py install\n",
    "#### popd\n",
    "\n",
    "### OBS: if we want to use n-gram > 6, we need to change -DKENLM_MAX_ORDER in ARGS in setup.py before doing python setup.py install. Change to whatever is the max you need. We will use 11 in this case.\n",
    "\n",
    "#### Other Useful Links:\n",
    "Download stable release and unzip: http://kheafield.com/code/kenlm.tar.gz\n",
    "\n",
    "Need Boost >= 1.42.0 and bjam\n",
    "*   Ubuntu: sudo apt-get install libboost-all-dev\n",
    "*   Mac: brew install boost; brew install bjam\n",
    "\n",
    "Run within kenlm directory:\n",
    "    \n",
    "*  mkdir -p build\n",
    "  *  cd build\n",
    "  *  cmake .. -DKENLM_MAX_ORDER=10\n",
    "  *  make -j 4\n",
    " \n",
    "pip install https://github.com/kpu/kenlm/archive/master.zip\n",
    "\n",
    "For more information on KenLM see: https://github.com/kpu/kenlm and http://kheafield.com/code/kenlm/\n"
   ]
  },
  {
   "cell_type": "code",
   "execution_count": 1,
   "metadata": {},
   "outputs": [],
   "source": [
    "import sys\n",
    "sys.path.append('utils/')"
   ]
  },
  {
   "cell_type": "code",
   "execution_count": 2,
   "metadata": {
    "colab": {
     "base_uri": "https://localhost:8080/",
     "height": 317
    },
    "colab_type": "code",
    "id": "90dlx6MzkrRB",
    "outputId": "6d2e42e5-3675-4d87-b79a-ff562b9e4c27"
   },
   "outputs": [],
   "source": [
    "import kenlm\n",
    "import os\n",
    "import re\n",
    "import utils.ngram_utils as ngram_utils\n"
   ]
  },
  {
   "cell_type": "code",
   "execution_count": 3,
   "metadata": {},
   "outputs": [],
   "source": [
    "# Read data from .txt files and create lists of reviews\n",
    "\n",
    "train_data = []\n",
    "# create a list of all the reviews \n",
    "with open('../data/amazon_train.txt', 'r') as f:\n",
    "    train_data = [review for review in f.read().split('\\n') if review]\n",
    "    \n",
    "valid_data = []\n",
    "# create a list of all the reviews \n",
    "with open('../data/amazon_valid.txt', 'r') as f:\n",
    "    valid_data = [review for review in f.read().split('\\n') if review]\n",
    "    "
   ]
  },
  {
   "cell_type": "code",
   "execution_count": 4,
   "metadata": {},
   "outputs": [
    {
     "data": {
      "application/vnd.jupyter.widget-view+json": {
       "model_id": "375d7572aa79452692ba9c393386531b",
       "version_major": 2,
       "version_minor": 0
      },
      "text/plain": [
       "HBox(children=(IntProgress(value=1, bar_style='info', max=1), HTML(value='')))"
      ]
     },
     "metadata": {},
     "output_type": "display_data"
    },
    {
     "name": "stdout",
     "output_type": "stream",
     "text": [
      "\n"
     ]
    },
    {
     "data": {
      "application/vnd.jupyter.widget-view+json": {
       "model_id": "a0daa66192614cbd914e0bd98553576d",
       "version_major": 2,
       "version_minor": 0
      },
      "text/plain": [
       "HBox(children=(IntProgress(value=1, bar_style='info', max=1), HTML(value='')))"
      ]
     },
     "metadata": {},
     "output_type": "display_data"
    },
    {
     "name": "stdout",
     "output_type": "stream",
     "text": [
      "\n"
     ]
    }
   ],
   "source": [
    "# Tokenize the Datasets\n",
    "# TODO: this takes a really long time !! why?\n",
    "train_data_tokenized, all_tokens_train = ngram_utils.tokenize_dataset(train_data)\n",
    "valid_data_tokenized, all_tokens_valid = ngram_utils.tokenize_dataset(valid_data)\n"
   ]
  },
  {
   "cell_type": "code",
   "execution_count": 5,
   "metadata": {},
   "outputs": [
    {
     "data": {
      "text/plain": [
       "['this is a great tutu and at a really great price .',\n",
       " \"it doesn ' t look cheap at all .\",\n",
       " \"i ' m so glad i looked on amazon and found such an affordable tutu that isn ' t made poorly .\"]"
      ]
     },
     "execution_count": 5,
     "metadata": {},
     "output_type": "execute_result"
    }
   ],
   "source": [
    "train_data = []\n",
    "for t in train_data_tokenized:\n",
    "    train_data.append(' '.join(t))\n",
    "train_data[:3]"
   ]
  },
  {
   "cell_type": "code",
   "execution_count": null,
   "metadata": {},
   "outputs": [
    {
     "data": {
      "text/plain": [
       "['these are not sized right .',\n",
       " 'a 3x is always big on me and these r cut wrong !',\n",
       " \"i ' m returning them .\"]"
      ]
     },
     "execution_count": 6,
     "metadata": {},
     "output_type": "execute_result"
    }
   ],
   "source": [
    "valid_data = []\n",
    "for t in valid_data_tokenized:\n",
    "    valid_data.append(' '.join(t))\n",
    "valid_data[:3]"
   ]
  },
  {
   "cell_type": "code",
   "execution_count": null,
   "metadata": {},
   "outputs": [
    {
     "data": {
      "text/plain": [
       "(107790, 15172)"
      ]
     },
     "execution_count": 7,
     "metadata": {},
     "output_type": "execute_result"
    }
   ],
   "source": [
    "len(train_data), len(valid_data)"
   ]
  },
  {
   "cell_type": "code",
   "execution_count": null,
   "metadata": {},
   "outputs": [],
   "source": [
    "# Change directory where you have the data\n",
    "path = '/home/roberta/ammi-2019-nlp/data/'\n",
    "os.chdir(path)\n"
   ]
  },
  {
   "cell_type": "markdown",
   "metadata": {},
   "source": [
    "## 3-gram model with KenLM"
   ]
  },
  {
   "cell_type": "code",
   "execution_count": null,
   "metadata": {},
   "outputs": [
    {
     "name": "stdout",
     "output_type": "stream",
     "text": [
      "=== 1/5 Counting and sorting n-grams ===\n",
      "File stdin isn't normal.  Using slower read() instead of mmap().  No progress bar.\n",
      "=== 2/5 Calculating and sorting adjusted counts ===\n",
      "Chain sizes: 1:860352 2:75230912512 3:141057966080\n",
      "Statistics:\n",
      "1 71696 D1=0.690098 D2=0.962667 D3+=1.22676\n",
      "2 1239185 D1=0.712943 D2=1.05296 D3+=1.36242\n",
      "3 4834597 D1=0.772513 D2=1.0869 D3+=1.33918\n",
      "Memory estimate for binary LM:\n",
      "type     MB\n",
      "probing 113 assuming -p 1.5\n",
      "probing 120 assuming -r models -p 1.5\n",
      "trie     44 without quantization\n",
      "trie     24 assuming -q 8 -b 8 quantization \n",
      "trie     42 assuming -a 22 array pointer compression\n",
      "trie     22 assuming -a 22 -q 8 -b 8 array pointer compression and quantization\n",
      "=== 3/5 Calculating and sorting initial probabilities ===\n",
      "Chain sizes: 1:860352 2:19826960 3:96691940\n",
      "----5---10---15---20---25---30---35---40---45---50---55---60---65---70---75---80---85---90---95--100\n",
      "####################################################################################################\n",
      "=== 4/5 Calculating and writing order-interpolated probabilities ===\n",
      "Chain sizes: 1:860352 2:19826960 3:96691940\n",
      "----5---10---15---20---25---30---35---40---45---50---55---60---65---70---75---80---85---90---95--100\n",
      "****************************************************************************************************\n",
      "Chain sizes: 1:860352 2:19826960 3:96691940\n",
      "=== 5/5 Writing ARPA model ===\n",
      "Name:lmplz\tVmPeak:211453080 kB\tVmRSS:27972 kB\tRSSMax:0 kB\tuser:0\tsys:0\tCPU:0\treal:50.375\n"
     ]
    }
   ],
   "source": [
    "cat train.txt | /home/roberta/kenlm/bin/lmplz -o 3 > amazonLM3.arpa"
   ]
  },
  {
   "cell_type": "code",
   "execution_count": null,
   "metadata": {},
   "outputs": [
    {
     "name": "stdout",
     "output_type": "stream",
     "text": [
      "Reading amazonLM3.arpa\n",
      "----5---10---15---20---25---30---35---40---45---50---55---60---65---70---75---80---85---90---95--100\n",
      "****************************************************************************************************\n",
      "SUCCESS\n"
     ]
    }
   ],
   "source": [
    "!/home/roberta/kenlm/bin/build_binary amazonLM3.arpa amazonLM3.klm"
   ]
  },
  {
   "cell_type": "code",
   "execution_count": null,
   "metadata": {},
   "outputs": [],
   "source": [
    "model_3n = kenlm.LanguageModel('amazonLM3.klm')\n"
   ]
  },
  {
   "cell_type": "markdown",
   "metadata": {},
   "source": [
    "## 5-gram KenLM"
   ]
  },
  {
   "cell_type": "code",
   "execution_count": null,
   "metadata": {},
   "outputs": [
    {
     "name": "stdout",
     "output_type": "stream",
     "text": [
      "=== 1/5 Counting and sorting n-grams ===\n",
      "File stdin isn't normal.  Using slower read() instead of mmap().  No progress bar.\n",
      "=== 2/5 Calculating and sorting adjusted counts ===\n",
      "Chain sizes: 1:860352 2:21101352960 3:39565037568 4:63304056832 5:92318425088\n",
      "Statistics:\n",
      "1 71696 D1=0.690098 D2=0.962667 D3+=1.22676\n",
      "2 1239185 D1=0.712943 D2=1.05296 D3+=1.36242\n",
      "3 4834597 D1=0.796199 D2=1.09701 D3+=1.35908\n",
      "4 9215190 D1=0.868874 D2=1.16401 D3+=1.3733\n",
      "5 12376562 D1=0.898907 D2=1.2197 D3+=1.36975\n",
      "Memory estimate for binary LM:\n",
      "type     MB\n",
      "probing 564 assuming -p 1.5\n",
      "probing 651 assuming -r models -p 1.5\n",
      "trie    261 without quantization\n",
      "trie    142 assuming -q 8 -b 8 quantization \n",
      "trie    232 assuming -a 22 array pointer compression\n",
      "trie    112 assuming -a 22 -q 8 -b 8 array pointer compression and quantization\n",
      "=== 3/5 Calculating and sorting initial probabilities ===\n",
      "Chain sizes: 1:860352 2:19826960 3:96691940 4:221164560 5:346543736\n",
      "----5---10---15---20---25---30---35---40---45---50---55---60---65---70---75---80---85---90---95--100\n",
      "####################################################################################################\n",
      "=== 4/5 Calculating and writing order-interpolated probabilities ===\n",
      "Chain sizes: 1:860352 2:19826960 3:96691940 4:221164560 5:346543736\n",
      "----5---10---15---20---25---30---35---40---45---50---55---60---65---70---75---80---85---90---95--100\n",
      "****************************************************************************************************\n",
      "Chain sizes: 1:860352 2:19826960 3:63822368 4:102115784 5:148918864\n",
      "=== 5/5 Writing ARPA model ===\n"
     ]
    }
   ],
   "source": [
    "cat train.txt | /home/roberta/kenlm/bin/lmplz -o 5 > amazonLM5.arpa"
   ]
  },
  {
   "cell_type": "code",
   "execution_count": null,
   "metadata": {},
   "outputs": [],
   "source": [
    "!/home/roberta/kenlm/bin/build_binary amazonLM5.arpa amazonLM5.klm\n"
   ]
  },
  {
   "cell_type": "code",
   "execution_count": null,
   "metadata": {},
   "outputs": [],
   "source": [
    "model_5n = kenlm.LanguageModel('amazonLM5.klm')"
   ]
  },
  {
   "cell_type": "markdown",
   "metadata": {},
   "source": [
    "## 7-gram KenLM\n"
   ]
  },
  {
   "cell_type": "code",
   "execution_count": null,
   "metadata": {},
   "outputs": [],
   "source": [
    "cat train.txt | /home/roberta/kenlm/bin/lmplz -o 7 > amazonLM7.arpa\n"
   ]
  },
  {
   "cell_type": "code",
   "execution_count": null,
   "metadata": {},
   "outputs": [],
   "source": [
    "!/home/roberta/kenlm/bin/build_binary amazonLM7.arpa amazonLM7.klm\n"
   ]
  },
  {
   "cell_type": "code",
   "execution_count": null,
   "metadata": {},
   "outputs": [],
   "source": [
    "model_7n = kenlm.LanguageModel('amazonLM7.klm')\n"
   ]
  },
  {
   "cell_type": "markdown",
   "metadata": {},
   "source": [
    "## 10-gram KenLM\n"
   ]
  },
  {
   "cell_type": "code",
   "execution_count": null,
   "metadata": {},
   "outputs": [],
   "source": [
    "cat train.txt | /home/roberta/kenlm/bin/lmplz -o 10 > amazonLM10.arpa\n"
   ]
  },
  {
   "cell_type": "code",
   "execution_count": null,
   "metadata": {},
   "outputs": [],
   "source": [
    "!/home/roberta/kenlm/bin/build_binary amazonLM10.arpa amazonLM10.klm\n"
   ]
  },
  {
   "cell_type": "code",
   "execution_count": null,
   "metadata": {},
   "outputs": [],
   "source": [
    "model_10n = kenlm.LanguageModel('amazonLM10.klm')\n"
   ]
  },
  {
   "cell_type": "markdown",
   "metadata": {
    "colab_type": "text",
    "id": "ov42EMhflktI"
   },
   "source": [
    "### The KenLM model reports negative log likelihood, not perplexity. So we'll be converting the score and report net perplexity. The following function calculate the perpelxity.\n",
    "\n",
    "### Pereplexity is defined as follows, $$ PPL = b^{- \\frac{1}{N} \\sum_{i=1}^N \\log_b q(x_i)} $$ \n",
    "\n",
    "### All probabilities here are in log base 10 so to convert to perplexity, we do the following \n",
    "\n",
    "### $$PPL = 10^{-\\log(P) / N} $$ \n",
    "\n",
    "### where $P$ is the total NLL, and $N$ is the word count."
   ]
  },
  {
   "cell_type": "code",
   "execution_count": null,
   "metadata": {
    "colab": {},
    "colab_type": "code",
    "id": "KLsISNQNlKff"
   },
   "outputs": [],
   "source": [
    "def get_ppl(lm, sentences):\n",
    "    \"\"\"\n",
    "    Assume sentences is a list of strings (space delimited sentences)\n",
    "    \"\"\"\n",
    "    total_nll = 0\n",
    "    total_wc = 0\n",
    "    for sent in sentences:\n",
    "        sent = re.sub(r\"([\\w/'+$\\s-]+|[^\\w/'+$\\s-]+)\\s*\", r\"\\1 \", sent)\n",
    "        words = sent.strip().split()\n",
    "        score = lm.score(sent, bos=False, eos=False)\n",
    "        word_count = len(words)\n",
    "        total_wc += word_count\n",
    "        total_nll += score\n",
    "    ppl = 10**-(total_nll/total_wc)\n",
    "    return ppl\n"
   ]
  },
  {
   "cell_type": "code",
   "execution_count": null,
   "metadata": {},
   "outputs": [],
   "source": [
    "# 3-gram\n",
    "train_ppl = get_ppl(model_3n, train_data)\n",
    "valid_ppl = get_ppl(model_3n, valid_data)\n",
    "train_ppl, valid_ppl"
   ]
  },
  {
   "cell_type": "code",
   "execution_count": null,
   "metadata": {},
   "outputs": [],
   "source": [
    "# 5-gram\n",
    "train_ppl = get_ppl(model_5n, train_data)\n",
    "valid_ppl = get_ppl(model_5n, valid_data)\n",
    "train_ppl, valid_ppl"
   ]
  },
  {
   "cell_type": "code",
   "execution_count": null,
   "metadata": {},
   "outputs": [],
   "source": [
    "# 7-gram\n",
    "train_ppl = get_ppl(model_7n, train_data)\n",
    "valid_ppl = get_ppl(model_7n, valid_data)\n",
    "train_ppl, valid_ppl"
   ]
  },
  {
   "cell_type": "code",
   "execution_count": null,
   "metadata": {},
   "outputs": [],
   "source": [
    "# 10-gram\n",
    "train_ppl = get_ppl(model_10n, train_data)\n",
    "valid_ppl = get_ppl(model_10n, valid_data)\n",
    "train_ppl, valid_ppl"
   ]
  },
  {
   "cell_type": "code",
   "execution_count": null,
   "metadata": {},
   "outputs": [],
   "source": []
  },
  {
   "cell_type": "code",
   "execution_count": null,
   "metadata": {},
   "outputs": [],
   "source": []
  },
  {
   "cell_type": "code",
   "execution_count": null,
   "metadata": {},
   "outputs": [],
   "source": []
  },
  {
   "cell_type": "markdown",
   "metadata": {},
   "source": [
    "### Score Sentences"
   ]
  },
  {
   "cell_type": "code",
   "execution_count": null,
   "metadata": {},
   "outputs": [],
   "source": [
    "sentences = ['i like this product very much .']\n",
    "ppl3 = get_ppl(model_3n, sentences)\n",
    "ppl5 = get_ppl(model_5n, sentences)\n",
    "ppl7 = get_ppl(model_7n, sentences)\n",
    "ppl10 = get_ppl(model_10n, sentences)\n",
    "ppl3, ppl5, ppl7, ppl10"
   ]
  },
  {
   "cell_type": "code",
   "execution_count": null,
   "metadata": {},
   "outputs": [],
   "source": [
    "sentences = ['i like pandas']\n",
    "ppl3 = get_ppl(model_3n, sentences)\n",
    "ppl5 = get_ppl(model_5n, sentences)\n",
    "ppl7 = get_ppl(model_7n, sentences)\n",
    "ppl10 = get_ppl(model_10n, sentences)\n",
    "ppl3, ppl5, ppl7, ppl10"
   ]
  },
  {
   "cell_type": "markdown",
   "metadata": {
    "colab_type": "text",
    "id": "4unImHqblPQ9"
   },
   "source": [
    "Function for loading the data"
   ]
  },
  {
   "cell_type": "code",
   "execution_count": null,
   "metadata": {},
   "outputs": [],
   "source": [
    "sentences = ['this color is very ugly]\n",
    "ppl3 = get_ppl(model_3n, sentences)\n",
    "ppl5 = get_ppl(model_5n, sentences)\n",
    "ppl7 = get_ppl(model_7n, sentences)\n",
    "ppl10 = get_ppl(model_10n, sentences)\n",
    "ppl3, ppl5, ppl7, ppl10"
   ]
  },
  {
   "cell_type": "code",
   "execution_count": null,
   "metadata": {},
   "outputs": [],
   "source": [
    "sentences = ['kigali is an awesome city !']\n",
    "ppl3 = get_ppl(model_3n, sentences)\n",
    "ppl5 = get_ppl(model_5n, sentences)\n",
    "ppl7 = get_ppl(model_7n, sentences)\n",
    "ppl10 = get_ppl(model_10n, sentences)\n",
    "ppl3, ppl5, ppl7, ppl10"
   ]
  },
  {
   "cell_type": "code",
   "execution_count": null,
   "metadata": {},
   "outputs": [],
   "source": [
    "sentences = ['i want to get a refund']\n",
    "ppl3 = get_ppl(model_3n, sentences)\n",
    "ppl5 = get_ppl(model_5n, sentences)\n",
    "ppl7 = get_ppl(model_7n, sentences)\n",
    "ppl10 = get_ppl(model_10n, sentences)\n",
    "ppl3, ppl5, ppl7, ppl10"
   ]
  },
  {
   "cell_type": "code",
   "execution_count": null,
   "metadata": {},
   "outputs": [],
   "source": [
    "sentences = ['this watch is not what i expected']\n",
    "ppl3 = get_ppl(model_3n, sentences)\n",
    "ppl5 = get_ppl(model_5n, sentences)\n",
    "ppl7 = get_ppl(model_7n, sentences)\n",
    "ppl10 = get_ppl(model_10n, sentences)\n",
    "ppl3, ppl5, ppl7, ppl10"
   ]
  },
  {
   "cell_type": "code",
   "execution_count": null,
   "metadata": {},
   "outputs": [],
   "source": [
    "sentences = ['this dress fits me perfectly !']\n",
    "ppl3 = get_ppl(model_3n, sentences)\n",
    "ppl5 = get_ppl(model_5n, sentences)\n",
    "ppl7 = get_ppl(model_7n, sentences)\n",
    "ppl10 = get_ppl(model_10n, sentences)\n",
    "ppl3, ppl5, ppl7, ppl10"
   ]
  },
  {
   "cell_type": "code",
   "execution_count": null,
   "metadata": {},
   "outputs": [],
   "source": [
    "sentences = ['my wife loves this ring']\n",
    "ppl3 = get_ppl(model_3n, sentences)\n",
    "ppl5 = get_ppl(model_5n, sentences)\n",
    "ppl7 = get_ppl(model_7n, sentences)\n",
    "ppl10 = get_ppl(model_10n, sentences)\n",
    "ppl3, ppl5, ppl7, ppl10"
   ]
  },
  {
   "cell_type": "code",
   "execution_count": null,
   "metadata": {},
   "outputs": [],
   "source": []
  },
  {
   "cell_type": "code",
   "execution_count": null,
   "metadata": {},
   "outputs": [],
   "source": []
  }
 ],
 "metadata": {
  "colab": {
   "collapsed_sections": [],
   "include_colab_link": true,
   "name": "ken_lm.ipynb",
   "provenance": [],
   "version": "0.3.2"
  },
  "kernelspec": {
   "display_name": "Python 3",
   "language": "python",
   "name": "python3"
  },
  "language_info": {
   "codemirror_mode": {
    "name": "ipython",
    "version": 3
   },
   "file_extension": ".py",
   "mimetype": "text/x-python",
   "name": "python",
   "nbconvert_exporter": "python",
   "pygments_lexer": "ipython3",
   "version": "3.7.1"
  }
 },
 "nbformat": 4,
 "nbformat_minor": 2
}
