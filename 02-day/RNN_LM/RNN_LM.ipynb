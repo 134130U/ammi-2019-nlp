{
 "cells": [
  {
   "cell_type": "markdown",
   "metadata": {},
   "source": [
    "# Recurrent Language Model"
   ]
  },
  {
   "cell_type": "code",
   "execution_count": 1,
   "metadata": {},
   "outputs": [],
   "source": [
    "path_to_utils = '../../utils'\n",
    "\n",
    "dataset = 'amazon'\n",
    "if dataset == 'amazon':\n",
    "    path_to_data = './amazon_review_data'\n",
    "else:\n",
    "    path_to_data = './data'"
   ]
  },
  {
   "cell_type": "code",
   "execution_count": 2,
   "metadata": {},
   "outputs": [],
   "source": [
    "import os\n",
    "import sys\n",
    "\n",
    "sys.path.append(path_to_utils)\n",
    "\n",
    "import loading_text_and_tokenization\n",
    "import torch\n",
    "import numpy as np\n",
    "import torch.nn as nn\n",
    "import random\n",
    "import math"
   ]
  },
  {
   "cell_type": "code",
   "execution_count": 3,
   "metadata": {},
   "outputs": [],
   "source": [
    "USE_CUDA = True\n",
    "device = torch.device(\"cuda\" if USE_CUDA else \"cpu\")"
   ]
  },
  {
   "cell_type": "code",
   "execution_count": 4,
   "metadata": {},
   "outputs": [],
   "source": [
    "batch_size  = 32\n",
    "\n",
    "if dataset == 'amazon':\n",
    "    batch_size = 64"
   ]
  },
  {
   "cell_type": "markdown",
   "metadata": {},
   "source": [
    "### Loading Data and turning into batches"
   ]
  },
  {
   "cell_type": "code",
   "execution_count": 5,
   "metadata": {},
   "outputs": [],
   "source": [
    "corpus = loading_text_and_tokenization.Corpus(path_to_data)"
   ]
  },
  {
   "cell_type": "code",
   "execution_count": 6,
   "metadata": {},
   "outputs": [
    {
     "name": "stdout",
     "output_type": "stream",
     "text": [
      "Train dataset size is 12877131\n",
      "Val dataset size is 3691779\n",
      "Test dataset size is 3107289\n"
     ]
    }
   ],
   "source": [
    "print (\"Train dataset size is {}\".format(len(corpus.train)))\n",
    "print (\"Val dataset size is {}\".format(len(corpus.valid)))\n",
    "print (\"Test dataset size is {}\".format(len(corpus.test)))"
   ]
  },
  {
   "cell_type": "markdown",
   "metadata": {},
   "source": [
    "### Aside: torch.Tensor.narrow"
   ]
  },
  {
   "cell_type": "code",
   "execution_count": 7,
   "metadata": {},
   "outputs": [
    {
     "name": "stdout",
     "output_type": "stream",
     "text": [
      "tensor([0, 1, 2, 3, 4, 5, 6, 7, 8, 9])\n"
     ]
    }
   ],
   "source": [
    "dummy_tensor = torch.arange(0, 10);\n",
    "print(dummy_tensor)"
   ]
  },
  {
   "cell_type": "code",
   "execution_count": 8,
   "metadata": {},
   "outputs": [
    {
     "data": {
      "text/plain": [
       "tensor([1, 2, 3, 4, 5])"
      ]
     },
     "execution_count": 8,
     "metadata": {},
     "output_type": "execute_result"
    }
   ],
   "source": [
    "dummy_tensor.narrow(0, 1, 5)"
   ]
  },
  {
   "cell_type": "code",
   "execution_count": 9,
   "metadata": {},
   "outputs": [
    {
     "data": {
      "text/plain": [
       "tensor([5, 6, 7, 8])"
      ]
     },
     "execution_count": 9,
     "metadata": {},
     "output_type": "execute_result"
    }
   ],
   "source": [
    "dummy_tensor.narrow(0, 5, 4)"
   ]
  },
  {
   "cell_type": "markdown",
   "metadata": {},
   "source": [
    "All we need to understand is that .narrow() is just a way to do indexing. When we do dummy_tensor.narrow(0, i, j) we are indexing dummy_tensor[i:i+j]"
   ]
  },
  {
   "cell_type": "raw",
   "metadata": {},
   "source": [
    "Starting from sequential data, batchify arranges the dataset into columns.\n",
    "For instance, with the alphabet as the sequence and batch size 4, we'd get\n",
    "┌ a g m s ┐\n",
    "│ b h n t │\n",
    "│ c i o u │\n",
    "│ d j p v │\n",
    "│ e k q w │\n",
    "└ f l r x ┘.\n",
    "These columns are treated as independent by the model, which means that the\n",
    "dependence of e. g. 'g' on 'f' can not be learned, but allows more efficient\n",
    "batch processing."
   ]
  },
  {
   "cell_type": "code",
   "execution_count": 10,
   "metadata": {},
   "outputs": [],
   "source": [
    "def batchify(data, bsz, random_start_idx=False):\n",
    "    # calculate total number of batches that fit cleanly\n",
    "    nbatch = data.size(0) // bsz\n",
    "    if random_start_idx:\n",
    "        start_idx = random.randint(0, data.size(0) % bsz - 1)\n",
    "    else:\n",
    "        start_idx = 0\n",
    "        \n",
    "    # Trim off any extra elements that wouldn't cleanly fit (remainders).\n",
    "    # Nice thing about this: \n",
    "    # u don't need to pad since every sequence now has same length\n",
    "    data = data.narrow(0, start_idx, nbatch * bsz)\n",
    "    \n",
    "    # Evenly divide the data across the bsz batches.\n",
    "    data = data.view(bsz, -1).t().contiguous()\n",
    "    return data.to(device)\n"
   ]
  },
  {
   "cell_type": "code",
   "execution_count": 11,
   "metadata": {},
   "outputs": [],
   "source": [
    "train_data = batchify(corpus.train, batch_size)\n",
    "val_data = batchify(corpus.valid, batch_size)\n",
    "test_data = batchify(corpus.test, batch_size)"
   ]
  },
  {
   "cell_type": "markdown",
   "metadata": {},
   "source": [
    "## RNN Model"
   ]
  },
  {
   "cell_type": "code",
   "execution_count": 12,
   "metadata": {},
   "outputs": [],
   "source": [
    "class RNNModel(nn.Module):\n",
    "    def __init__(self, vocab_size, embed_size, hidden_size, num_layers, dropout=0.5):\n",
    "        super(RNNModel, self).__init__()\n",
    "        self.drop = nn.Dropout(dropout)\n",
    "        \n",
    "        self.encoder = nn.Embedding(vocab_size, embed_size)\n",
    "        self.rnn = nn.LSTM(embed_size, hidden_size, num_layers, dropout=dropout)\n",
    "        self.decoder = nn.Linear(hidden_size, vocab_size)\n",
    "\n",
    "        self.init_weights()\n",
    "        self.hidden_size = hidden_size\n",
    "        self.num_layers = num_layers\n",
    "\n",
    "    def init_weights(self):\n",
    "        initrange = 0.1\n",
    "        self.encoder.weight.data.uniform_(-initrange, initrange)\n",
    "        self.decoder.bias.data.zero_()\n",
    "        self.decoder.weight.data.uniform_(-initrange, initrange)\n",
    "\n",
    "    def forward(self, input, hidden):\n",
    "        emb = self.drop(self.encoder(input))\n",
    "        output, hidden = self.rnn(emb, hidden)\n",
    "        output = self.drop(output)\n",
    "        decoded = self.decoder(output.view(output.size(0)*output.size(1), output.size(2)))\n",
    "        return decoded.view(output.size(0), output.size(1), decoded.size(1)), hidden\n",
    "\n",
    "    def init_hidden(self, bsz):\n",
    "        weight = next(self.parameters())\n",
    "        return (weight.new_zeros(self.num_layers, bsz, self.hidden_size),\n",
    "                    weight.new_zeros(self.num_layers, bsz, self.hidden_size))"
   ]
  },
  {
   "cell_type": "code",
   "execution_count": 13,
   "metadata": {},
   "outputs": [],
   "source": [
    "embed_size = 200\n",
    "hidden_size = 200\n",
    "num_layers = 2\n",
    "num_epochs = 10\n",
    "lr = 20.0\n",
    "dropout = 0.2\n",
    "max_seq_len = 35\n",
    "\n",
    "if dataset == 'amazon':\n",
    "    num_epochs = 4;\n",
    "    max_seq_len = 70\n",
    "\n",
    "\n",
    "vocab_size = len(corpus.dictionary)\n",
    "model = RNNModel(vocab_size, embed_size, hidden_size, num_layers, dropout).to(device)"
   ]
  },
  {
   "cell_type": "raw",
   "metadata": {},
   "source": [
    "get_batch subdivides the source data into chunks of max_seq_len.\n",
    "If source is equal to the example output of the batchify function, i, e, \n",
    "┌ a g m s ┐\n",
    "│ b h n t │\n",
    "│ c i o u │\n",
    "│ d j p v │\n",
    "│ e k q w │\n",
    "└ f l r x ┘\n",
    "\n",
    "then with max_seq_len = 2, we'd get the following two Variables for i = 0:\n",
    "┌ a g m s ┐ ┌ b h n t ┐\n",
    "└ b h n t ┘ └ c i o u ┘\n"
   ]
  },
  {
   "cell_type": "code",
   "execution_count": 14,
   "metadata": {},
   "outputs": [],
   "source": [
    "\n",
    "def get_batch(source, i, max_seq_len):\n",
    "    seq_len = min(max_seq_len, len(source) - 1 - i)\n",
    "    data = source[i:i+seq_len]\n",
    "    target = source[i+1:i+1+seq_len].view(-1)\n",
    "    return data, target\n"
   ]
  },
  {
   "cell_type": "code",
   "execution_count": 15,
   "metadata": {},
   "outputs": [],
   "source": [
    "clip = 0.25\n",
    "log_interval = 200\n",
    "\n",
    "def repackage_hidden(h):\n",
    "    \"\"\"\n",
    "        Wraps hidden states in new Tensors, to detach them from their history.\n",
    "    \"\"\"\n",
    "    if isinstance(h, torch.Tensor):\n",
    "        return h.detach()\n",
    "    else:\n",
    "        return tuple(repackage_hidden(v) for v in h)\n",
    "    \n",
    "def train():\n",
    "    model.train()\n",
    "    total_loss = 0.\n",
    "    hidden = model.init_hidden(batch_size)\n",
    "    \n",
    "    # We shuffle train data every epoch\n",
    "    train_data = train_data = batchify(corpus.train, batch_size, random_start_idx=True)\n",
    "    \n",
    "    for batch, i in enumerate(range(0, train_data.size(0) - 1, max_seq_len)):\n",
    "        data, targets = get_batch(train_data, i, max_seq_len)\n",
    "        \n",
    "        # Starting each batch, we detach the hidden state from how it was previously produced.\n",
    "        # If we didn't, the model would try backpropagating all the way to start of the dataset.\n",
    "        hidden = repackage_hidden(hidden)\n",
    "        model.zero_grad()\n",
    "        \n",
    "        output, hidden = model(data, hidden)\n",
    "        loss = criterion(output.view(-1, vocab_size), targets)\n",
    "        loss.backward()\n",
    "\n",
    "        # `clip_grad_norm` helps prevent the exploding gradient problem\n",
    "        torch.nn.utils.clip_grad_norm_(model.parameters(), clip)\n",
    "        for p in model.parameters():\n",
    "            p.data.add_(-lr, p.grad.data)\n",
    "\n",
    "        total_loss += loss.item()\n",
    "\n",
    "        if batch %log_interval == 0 and batch > 0:\n",
    "            cur_loss = total_loss / log_interval\n",
    "            \n",
    "            print('| epoch {:3d} | {:5d}/{:5d} batches | lr {:02.2f} | '\n",
    "                    'loss {:5.2f} | ppl {:8.2f}'.format(\n",
    "                epoch, batch, len(train_data) // max_seq_len, lr,\n",
    "                cur_loss, math.exp(cur_loss)))\n",
    "            total_loss = 0\n"
   ]
  },
  {
   "cell_type": "markdown",
   "metadata": {},
   "source": [
    "### Perplexity"
   ]
  },
  {
   "cell_type": "markdown",
   "metadata": {},
   "source": [
    "Description here"
   ]
  },
  {
   "cell_type": "code",
   "execution_count": 16,
   "metadata": {},
   "outputs": [],
   "source": [
    "# perplexity evaluation for a given corpus\n",
    "def evaluate(data_source, max_seq_len, eval_batch_size=32):\n",
    "    model.eval()\n",
    "    total_loss = 0.\n",
    "    hidden = model.init_hidden(eval_batch_size)\n",
    "    with torch.no_grad():\n",
    "        for i in range(0, data_source.size(0) - 1, max_seq_len):\n",
    "            data, targets = get_batch(data_source, i, max_seq_len)\n",
    "            \n",
    "            output, hidden = model(data, hidden)\n",
    "            output_flat = output.view(-1, vocab_size)\n",
    "            \n",
    "            total_loss += len(data) * criterion(output_flat, targets).item()\n",
    "            hidden = repackage_hidden(hidden)\n",
    "    return total_loss / len(data_source)"
   ]
  },
  {
   "cell_type": "markdown",
   "metadata": {},
   "source": [
    "## Training"
   ]
  },
  {
   "cell_type": "code",
   "execution_count": 17,
   "metadata": {},
   "outputs": [],
   "source": [
    "best_val_loss = np.inf\n",
    "criterion = nn.CrossEntropyLoss()"
   ]
  },
  {
   "cell_type": "code",
   "execution_count": 20,
   "metadata": {},
   "outputs": [
    {
     "name": "stdout",
     "output_type": "stream",
     "text": [
      "| epoch   1 |   200/ 2874 batches | lr 20.00 | loss  4.79 | ppl   120.83\n",
      "| epoch   1 |   400/ 2874 batches | lr 20.00 | loss  4.78 | ppl   118.96\n",
      "| epoch   1 |   600/ 2874 batches | lr 20.00 | loss  4.76 | ppl   117.33\n",
      "| epoch   1 |   800/ 2874 batches | lr 20.00 | loss  4.77 | ppl   117.38\n",
      "| epoch   1 |  1000/ 2874 batches | lr 20.00 | loss  4.73 | ppl   113.03\n",
      "| epoch   1 |  1200/ 2874 batches | lr 20.00 | loss  4.69 | ppl   109.05\n",
      "| epoch   1 |  1400/ 2874 batches | lr 20.00 | loss  4.66 | ppl   105.61\n",
      "| epoch   1 |  1600/ 2874 batches | lr 20.00 | loss  4.64 | ppl   103.90\n",
      "| epoch   1 |  1800/ 2874 batches | lr 20.00 | loss  4.65 | ppl   104.17\n",
      "| epoch   1 |  2000/ 2874 batches | lr 20.00 | loss  4.63 | ppl   103.02\n",
      "| epoch   1 |  2200/ 2874 batches | lr 20.00 | loss  4.61 | ppl   100.11\n",
      "| epoch   1 |  2400/ 2874 batches | lr 20.00 | loss  4.59 | ppl    98.89\n",
      "| epoch   1 |  2600/ 2874 batches | lr 20.00 | loss  4.58 | ppl    97.70\n",
      "| epoch   1 |  2800/ 2874 batches | lr 20.00 | loss  4.57 | ppl    96.70\n",
      "-----------------------------------------------------------------------------------------\n",
      "| end of epoch   1 | valid loss  4.62 | valid ppl   101.22\n",
      "-----------------------------------------------------------------------------------------\n"
     ]
    },
    {
     "name": "stderr",
     "output_type": "stream",
     "text": [
      "/scratch/sm7582/condaenvs/denoising/lib/python3.7/site-packages/torch/serialization.py:250: UserWarning: Couldn't retrieve source code for container of type RNNModel. It won't be checked for correctness upon loading.\n",
      "  \"type \" + obj.__name__ + \". It won't be checked \"\n"
     ]
    },
    {
     "name": "stdout",
     "output_type": "stream",
     "text": [
      "| epoch   2 |   200/ 2874 batches | lr 20.00 | loss  4.54 | ppl    93.55\n",
      "| epoch   2 |   400/ 2874 batches | lr 20.00 | loss  4.53 | ppl    92.33\n",
      "| epoch   2 |   600/ 2874 batches | lr 20.00 | loss  4.53 | ppl    92.51\n",
      "| epoch   2 |   800/ 2874 batches | lr 20.00 | loss  4.54 | ppl    93.84\n",
      "| epoch   2 |  1000/ 2874 batches | lr 20.00 | loss  4.51 | ppl    91.23\n",
      "| epoch   2 |  1200/ 2874 batches | lr 20.00 | loss  4.49 | ppl    88.89\n",
      "| epoch   2 |  1400/ 2874 batches | lr 20.00 | loss  4.47 | ppl    87.09\n",
      "| epoch   2 |  1600/ 2874 batches | lr 20.00 | loss  4.46 | ppl    86.46\n",
      "| epoch   2 |  1800/ 2874 batches | lr 20.00 | loss  4.47 | ppl    86.93\n",
      "| epoch   2 |  2000/ 2874 batches | lr 20.00 | loss  4.46 | ppl    86.47\n",
      "| epoch   2 |  2200/ 2874 batches | lr 20.00 | loss  4.44 | ppl    84.62\n",
      "| epoch   2 |  2400/ 2874 batches | lr 20.00 | loss  4.43 | ppl    83.97\n",
      "| epoch   2 |  2600/ 2874 batches | lr 20.00 | loss  4.42 | ppl    83.51\n",
      "| epoch   2 |  2800/ 2874 batches | lr 20.00 | loss  4.42 | ppl    82.90\n",
      "-----------------------------------------------------------------------------------------\n",
      "| end of epoch   2 | valid loss  4.45 | valid ppl    85.43\n",
      "-----------------------------------------------------------------------------------------\n",
      "| epoch   3 |   200/ 2874 batches | lr 20.00 | loss  4.40 | ppl    81.24\n",
      "| epoch   3 |   400/ 2874 batches | lr 20.00 | loss  4.39 | ppl    80.76\n",
      "| epoch   3 |   600/ 2874 batches | lr 20.00 | loss  4.39 | ppl    80.92\n",
      "| epoch   3 |   800/ 2874 batches | lr 20.00 | loss  4.42 | ppl    82.76\n",
      "| epoch   3 |  1000/ 2874 batches | lr 20.00 | loss  4.39 | ppl    80.75\n",
      "| epoch   3 |  1200/ 2874 batches | lr 20.00 | loss  4.37 | ppl    79.04\n",
      "| epoch   3 |  1400/ 2874 batches | lr 20.00 | loss  4.36 | ppl    78.02\n",
      "| epoch   3 |  1600/ 2874 batches | lr 20.00 | loss  4.35 | ppl    77.55\n",
      "| epoch   3 |  1800/ 2874 batches | lr 20.00 | loss  4.36 | ppl    78.38\n",
      "| epoch   3 |  2000/ 2874 batches | lr 20.00 | loss  4.36 | ppl    78.13\n",
      "| epoch   3 |  2200/ 2874 batches | lr 20.00 | loss  4.34 | ppl    76.70\n",
      "| epoch   3 |  2400/ 2874 batches | lr 20.00 | loss  4.34 | ppl    76.49\n",
      "| epoch   3 |  2600/ 2874 batches | lr 20.00 | loss  4.34 | ppl    76.40\n",
      "| epoch   3 |  2800/ 2874 batches | lr 20.00 | loss  4.33 | ppl    75.95\n",
      "-----------------------------------------------------------------------------------------\n",
      "| end of epoch   3 | valid loss  4.38 | valid ppl    79.56\n",
      "-----------------------------------------------------------------------------------------\n",
      "| epoch   4 |   200/ 2874 batches | lr 20.00 | loss  4.31 | ppl    74.72\n",
      "| epoch   4 |   400/ 2874 batches | lr 20.00 | loss  4.31 | ppl    74.52\n",
      "| epoch   4 |   600/ 2874 batches | lr 20.00 | loss  4.32 | ppl    75.10\n",
      "| epoch   4 |   800/ 2874 batches | lr 20.00 | loss  4.34 | ppl    76.73\n",
      "| epoch   4 |  1000/ 2874 batches | lr 20.00 | loss  4.32 | ppl    75.18\n",
      "| epoch   4 |  1200/ 2874 batches | lr 20.00 | loss  4.30 | ppl    73.56\n",
      "| epoch   4 |  1400/ 2874 batches | lr 20.00 | loss  4.29 | ppl    72.78\n",
      "| epoch   4 |  1600/ 2874 batches | lr 20.00 | loss  4.29 | ppl    72.79\n",
      "| epoch   4 |  1800/ 2874 batches | lr 20.00 | loss  4.30 | ppl    73.50\n",
      "| epoch   4 |  2000/ 2874 batches | lr 20.00 | loss  4.30 | ppl    73.46\n",
      "| epoch   4 |  2200/ 2874 batches | lr 20.00 | loss  4.28 | ppl    72.21\n",
      "| epoch   4 |  2400/ 2874 batches | lr 20.00 | loss  4.28 | ppl    72.07\n",
      "| epoch   4 |  2600/ 2874 batches | lr 20.00 | loss  4.28 | ppl    72.10\n",
      "| epoch   4 |  2800/ 2874 batches | lr 20.00 | loss  4.27 | ppl    71.71\n",
      "-----------------------------------------------------------------------------------------\n",
      "| end of epoch   4 | valid loss  4.32 | valid ppl    75.16\n",
      "-----------------------------------------------------------------------------------------\n"
     ]
    }
   ],
   "source": [
    "if os.path.exists('model_'+dataset+'.pt'):\n",
    "    model = torch.load('model_'+dataset+'.pt');\n",
    "else:\n",
    "    for epoch in range(1, num_epochs+1):\n",
    "        train()\n",
    "        val_loss = evaluate(val_data, max_seq_len, batch_size)\n",
    "        print('-' * 89)\n",
    "        print('| end of epoch {:3d} | valid loss {:5.2f} | '\n",
    "                    'valid ppl {:8.2f}'.format(epoch, \n",
    "                                               val_loss, math.exp(val_loss)))\n",
    "        print('-' * 89)\n",
    "        # Save the model if the validation loss is the best we've seen so far.\n",
    "        if not best_val_loss or val_loss < best_val_loss:\n",
    "            with open('model_'+dataset+'.pt', 'wb') as f:\n",
    "                torch.save(model, f)\n",
    "            best_val_loss = val_loss\n",
    "        else:\n",
    "            # Anneal the learning rate if no improvement has been seen in the validation dataset.\n",
    "            lr /= 4.0\n"
   ]
  },
  {
   "cell_type": "markdown",
   "metadata": {},
   "source": [
    "### Scoring The Sentence"
   ]
  },
  {
   "cell_type": "code",
   "execution_count": 21,
   "metadata": {},
   "outputs": [],
   "source": [
    "def score_sentences(sent_list):\n",
    "    ppl_list = []\n",
    "    for sent in sent_list:\n",
    "        tokens = corpus.tokenize_sentence(sent)\n",
    "        \n",
    "        test_sent_idx = batchify(tokens, 1)\n",
    "        loss = evaluate(test_sent_idx, len(tokens), 1)\n",
    "        ppl_list.append((sent, math.exp(loss)))\n",
    "    return ppl_list"
   ]
  },
  {
   "cell_type": "code",
   "execution_count": 22,
   "metadata": {},
   "outputs": [
    {
     "data": {
      "text/plain": [
       "[('dividend yields have been bolstered by stock declines', 45385.34214112503),\n",
       " ('stock bolstered declines dividend by yields have been', 45385.34214112503),\n",
       " ('artificial neural networks are computing systems vaguely inspired by the biological neural networks',\n",
       "  81198.96110036242),\n",
       " ('Cho is so cool', 10107.242629200658),\n",
       " ('roberta is so cool', 10107.242629200658)]"
      ]
     },
     "execution_count": 22,
     "metadata": {},
     "output_type": "execute_result"
    }
   ],
   "source": [
    "test_sentences = ['dividend yields have been bolstered by stock declines', \\\n",
    "             'stock bolstered declines dividend by yields have been', \\\n",
    "             'artificial neural networks are computing systems vaguely inspired by the biological neural networks', \\\n",
    "             'Cho is so cool', \\\n",
    "             'roberta is so cool']\n",
    "\n",
    "score_sentences(test_sentences)"
   ]
  },
  {
   "cell_type": "code",
   "execution_count": 23,
   "metadata": {},
   "outputs": [
    {
     "data": {
      "text/plain": [
       "False"
      ]
     },
     "execution_count": 23,
     "metadata": {},
     "output_type": "execute_result"
    }
   ],
   "source": [
    "'Cho' in corpus.dictionary.word2idx"
   ]
  },
  {
   "cell_type": "markdown",
   "metadata": {},
   "source": [
    "## Generation"
   ]
  },
  {
   "cell_type": "code",
   "execution_count": 24,
   "metadata": {},
   "outputs": [],
   "source": [
    "n_words = 100; #number of words to generate\n"
   ]
  },
  {
   "cell_type": "code",
   "execution_count": 41,
   "metadata": {},
   "outputs": [],
   "source": [
    "ntokens = len(corpus.dictionary)\n",
    "hidden = model.init_hidden(1)\n",
    "input = torch.randint(ntokens, (1, 1), dtype=torch.long).to(device)\n",
    "# input = torch.tensor([[corpus.dictionary.word2idx['The']]], dtype=torch.long).to(device)"
   ]
  },
  {
   "cell_type": "code",
   "execution_count": 42,
   "metadata": {},
   "outputs": [
    {
     "data": {
      "text/plain": [
       "torch.Size([1, 1])"
      ]
     },
     "execution_count": 42,
     "metadata": {},
     "output_type": "execute_result"
    }
   ],
   "source": [
    "input.shape"
   ]
  },
  {
   "cell_type": "code",
   "execution_count": 43,
   "metadata": {},
   "outputs": [],
   "source": [
    "sentence = corpus.dictionary.idx2word[input.item()][1:-2] + ' '\n",
    "model.eval()\n",
    "with torch.no_grad():  # no tracking history\n",
    "    for i in range(n_words):\n",
    "        output, hidden = model(input, hidden)\n",
    "        word_weights = output.squeeze().div(1.0).exp().cpu()\n",
    "        word_idx = torch.multinomial(word_weights, 1)[0]\n",
    "\n",
    "#         word_idx = output.topk(1)[1].item()\n",
    "        \n",
    "        input.fill_(word_idx)\n",
    "#         input = torch.cat([ input, torch.from_numpy(np.array([[word_idx]])).type(torch.LongTensor).to(device) ], dim = 0)\n",
    "        word = corpus.dictionary.idx2word[word_idx]\n",
    "        \n",
    "        sentence += word[1:-2] +' '\n",
    "\n",
    "#         outf.write(word + ('\\n' if i % 20 == 19 else ' '))\n",
    "\n",
    "#         if i % 100 == 0:\n",
    "#             print('| Generated {}/{} words'.format(i, n_words))"
   ]
  },
  {
   "cell_type": "code",
   "execution_count": 44,
   "metadata": {},
   "outputs": [
    {
     "data": {
      "text/plain": [
       "\"loophole out at least with . good luck . a terrific little primer would need a weakness of the not nasty nonsense characteristics of a tree operation . eo 'i bought this back on the amazon 'daisey and figured out they would leverage me eo fitday isn ' t listed , but yes what ' s defective to the hks works real well . my minor complaint is the handle . the finish is pretty very quiet , though 3 / 3 dollars more , entered any accuracy ! oh , but ask a lot more at washing is why as \""
      ]
     },
     "execution_count": 44,
     "metadata": {},
     "output_type": "execute_result"
    }
   ],
   "source": [
    "sentence"
   ]
  },
  {
   "cell_type": "code",
   "execution_count": null,
   "metadata": {},
   "outputs": [],
   "source": []
  }
 ],
 "metadata": {
  "kernelspec": {
   "display_name": "Python 3",
   "language": "python",
   "name": "python3"
  },
  "language_info": {
   "codemirror_mode": {
    "name": "ipython",
    "version": 3
   },
   "file_extension": ".py",
   "mimetype": "text/x-python",
   "name": "python",
   "nbconvert_exporter": "python",
   "pygments_lexer": "ipython3",
   "version": "3.7.1"
  }
 },
 "nbformat": 4,
 "nbformat_minor": 2
}
